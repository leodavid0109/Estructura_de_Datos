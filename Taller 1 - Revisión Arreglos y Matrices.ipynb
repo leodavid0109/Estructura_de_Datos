{
 "cells": [
  {
   "cell_type": "markdown",
   "source": [
    "# TALLER 1: REVISIÓN ARREGLOS Y MATRICES\n",
    "\n",
    "## PARTE 1. ARREGLOS\n",
    "\n",
    "1. Dado un arreglo $A[ ]$ de enteros. Presente un algoritmo que invierta los elementos del arreglo. Por ejemplo, dado el arreglo $A = [5, 10, 27, 30]$, la salida es $[30, 27, 10, 5]$."
   ],
   "metadata": {
    "collapsed": false
   },
   "id": "f3c6873cc47d4322"
  },
  {
   "cell_type": "code",
   "execution_count": 4,
   "outputs": [],
   "source": [
    "def invertir_arreglo(A):\n",
    "    \"\"\"\n",
    "    Invierte los elementos de un arreglo\n",
    "    :param A: Arreglo de enteros\n",
    "    :return: Arreglo invertido\n",
    "    \"\"\"\n",
    "    \n",
    "    n = len(A)\n",
    "    for i in range(n//2):\n",
    "        aux = A[-1 - i]\n",
    "        A[-1 - i] = A[i]\n",
    "        A[i] = aux\n",
    "    return A"
   ],
   "metadata": {
    "collapsed": false,
    "ExecuteTime": {
     "end_time": "2023-12-13T18:09:10.590616400Z",
     "start_time": "2023-12-13T18:09:10.581182100Z"
    }
   },
   "id": "a07125535f2c30c4"
  },
  {
   "cell_type": "code",
   "execution_count": 5,
   "outputs": [
    {
     "name": "stdout",
     "output_type": "stream",
     "text": [
      "[30, 27, 10, 5]\n"
     ]
    }
   ],
   "source": [
    "# Caso de Prueba\n",
    "A = [5, 10, 27, 30]\n",
    "A_invertido = invertir_arreglo(A)\n",
    "print(A_invertido)"
   ],
   "metadata": {
    "collapsed": false,
    "ExecuteTime": {
     "end_time": "2023-12-13T18:09:10.931335800Z",
     "start_time": "2023-12-13T18:09:10.899373200Z"
    }
   },
   "id": "3b47ef96f5780bc7"
  },
  {
   "cell_type": "markdown",
   "source": [
    "2. Dado un arreglo $A[]$ de enteros. Presente un algoritmo que encuentre un elemento del arreglo que representa un pico, es decir, que sus vecinos son menores. Para los elementos en los extremos, solo se considera un vecino. Por ejemplo. Para el arreglo $A = [3, 10, 25, 11, 9]$, la salida es $25$ dado que sus vecinos son el $10$ y $11$ que son menores a $25$."
   ],
   "metadata": {
    "collapsed": false
   },
   "id": "523efdd42f8fcf79"
  },
  {
   "cell_type": "code",
   "execution_count": 10,
   "outputs": [],
   "source": [
    "def pico(A):\n",
    "    if A[0] > A[1]:\n",
    "        return A[0]\n",
    "    elif A[-1] > A[-2]:\n",
    "        return A[-1]\n",
    "    else:\n",
    "        for i in range(1, len(A) - 1):\n",
    "            if A[i] > A[i - 1] and A[i] > A[i + 1]:\n",
    "                return A[i]"
   ],
   "metadata": {
    "collapsed": false,
    "ExecuteTime": {
     "end_time": "2023-12-13T18:11:28.835401900Z",
     "start_time": "2023-12-13T18:11:28.808312600Z"
    }
   },
   "id": "d630afb96a8b9bb4"
  },
  {
   "cell_type": "code",
   "execution_count": 13,
   "outputs": [
    {
     "name": "stdout",
     "output_type": "stream",
     "text": [
      "25\n"
     ]
    }
   ],
   "source": [
    "# Caso de Prueba\n",
    "A = [3, 10, 25, 11, 9]\n",
    "elemento_pico = pico(A)\n",
    "print(elemento_pico)"
   ],
   "metadata": {
    "collapsed": false,
    "ExecuteTime": {
     "end_time": "2023-12-13T18:11:48.658880200Z",
     "start_time": "2023-12-13T18:11:48.642210200Z"
    }
   },
   "id": "4859913f8ea5d670"
  },
  {
   "cell_type": "markdown",
   "source": [
    "3. Dado un arreglo $A[]$ de enteros. Presente un algoritmo de ordenamiento, donde los elementos queden organizados de mayor a menor. Por ejemplo, para el arreglo $A = [8, 5, 7, 0, 3, 9]$, la salida es $[9, 8, 7, 5, 3, 0]$"
   ],
   "metadata": {
    "collapsed": false
   },
   "id": "ab1ef591cfeba6e5"
  },
  {
   "cell_type": "code",
   "execution_count": 17,
   "outputs": [],
   "source": [
    "def ordenamiento(A):\n",
    "    n = len(A)\n",
    "    for i in range(n - 1):\n",
    "        max_inx = i\n",
    "        for j in range(i + 1, n):\n",
    "            if A[j] > A[max_inx]:\n",
    "                max_inx = j\n",
    "        temp = A[max_inx]\n",
    "        A[max_inx] = A[i]\n",
    "        A[i] = temp\n",
    "    return A"
   ],
   "metadata": {
    "collapsed": false,
    "ExecuteTime": {
     "end_time": "2023-12-13T18:14:49.153794Z",
     "start_time": "2023-12-13T18:14:49.136051900Z"
    }
   },
   "id": "dc9d866a56659c30"
  },
  {
   "cell_type": "code",
   "execution_count": 18,
   "outputs": [
    {
     "name": "stdout",
     "output_type": "stream",
     "text": [
      "[9, 8, 7, 5, 3, 0]\n"
     ]
    }
   ],
   "source": [
    "# Caso de Prueba\n",
    "A = [8, 5, 7, 0, 3, 9]\n",
    "arreglo_ordenado = ordenamiento(A)\n",
    "print(arreglo_ordenado)"
   ],
   "metadata": {
    "collapsed": false,
    "ExecuteTime": {
     "end_time": "2023-12-13T18:14:49.575642300Z",
     "start_time": "2023-12-13T18:14:49.564539500Z"
    }
   },
   "id": "b8dc0fab2e828e19"
  },
  {
   "cell_type": "markdown",
   "source": [
    "4. Dado un arreglo $A[]$ de enteros y un número $K$ menor a la longitud del arreglo $A$, encontrar los $K$ elementos más pequeños del arreglo. Por ejemplo, $A = [7, 10, 5, 3, 15, 12]$ y $K = 3$, la salida $[3, 5, 7]$."
   ],
   "metadata": {
    "collapsed": false
   },
   "id": "c54bdd45624ab47e"
  },
  {
   "cell_type": "code",
   "execution_count": 26,
   "outputs": [],
   "source": [
    "def k_elementos(A, k):\n",
    "    A = ordenamiento(A)\n",
    "    print(A)\n",
    "    return A[len(A) - k:]"
   ],
   "metadata": {
    "collapsed": false,
    "ExecuteTime": {
     "end_time": "2023-12-13T18:20:38.524505500Z",
     "start_time": "2023-12-13T18:20:38.508588500Z"
    }
   },
   "id": "6d973436f0bd9593"
  },
  {
   "cell_type": "code",
   "execution_count": 27,
   "outputs": [
    {
     "name": "stdout",
     "output_type": "stream",
     "text": [
      "[15, 12, 10, 7, 5, 3]\n",
      "[7, 5, 3]\n"
     ]
    }
   ],
   "source": [
    "# Caso de Prueba\n",
    "A = [7, 10, 5, 3, 15, 12]\n",
    "k = 3\n",
    "k_elementos_menores = k_elementos(A, k)\n",
    "print(k_elementos_menores)"
   ],
   "metadata": {
    "collapsed": false,
    "ExecuteTime": {
     "end_time": "2023-12-13T18:20:39.083108200Z",
     "start_time": "2023-12-13T18:20:39.073282900Z"
    }
   },
   "id": "ff3a928efb5d085a"
  },
  {
   "cell_type": "markdown",
   "source": [
    "5. Dado un arreglo $A[]$ de enteros ordenado y un número $x$, determine el número de ocurrencias de $x$ en el arreglo $A$. Por ejemplo, dado el arreglo $A = [1, 1, 1, 2, 2, 3, 3, 3, 3, 5, 5]$, y $x = 3$, la salida $4$."
   ],
   "metadata": {
    "collapsed": false
   },
   "id": "e3ad64ae12f966ed"
  },
  {
   "cell_type": "code",
   "execution_count": 28,
   "outputs": [],
   "source": [
    "def ocurrencias(A, x):\n",
    "    n = len(A)\n",
    "    count = 0\n",
    "    for i in range(n):\n",
    "        if A[i] == x:\n",
    "            count += 1\n",
    "    return count"
   ],
   "metadata": {
    "collapsed": false,
    "ExecuteTime": {
     "end_time": "2023-12-13T18:23:11.244937700Z",
     "start_time": "2023-12-13T18:23:11.228570200Z"
    }
   },
   "id": "4e048993c6fcf666"
  },
  {
   "cell_type": "code",
   "execution_count": 29,
   "outputs": [
    {
     "name": "stdout",
     "output_type": "stream",
     "text": [
      "4\n"
     ]
    }
   ],
   "source": [
    "# Caso de Prueba\n",
    "A = [1, 1, 1, 2, 2, 3, 3, 3, 3, 5, 5]\n",
    "x = 3\n",
    "ocurrencias_x = ocurrencias(A, x)\n",
    "print(ocurrencias_x)"
   ],
   "metadata": {
    "collapsed": false,
    "ExecuteTime": {
     "end_time": "2023-12-13T18:23:24.890505900Z",
     "start_time": "2023-12-13T18:23:24.867093200Z"
    }
   },
   "id": "35c1d83abe6ae5d6"
  },
  {
   "cell_type": "markdown",
   "source": [
    "6. Dado un arreglo $A[]$ de enteros positivos y un entero $sum$, determine el subarreglo que sumando sus elementos resulta igual a $sum$. Por ejemplo, dado el arreglo $A = [1, 4, 20, 3, 10, 5]$ y $sum = 33$, la salida será $[20, 3, 10]$."
   ],
   "metadata": {
    "collapsed": false
   },
   "id": "ecc79a625aab2356"
  },
  {
   "cell_type": "code",
   "execution_count": 36,
   "outputs": [],
   "source": [
    "def subarreglo(A, sum):\n",
    "    n = len(A)\n",
    "    for i in range(n):\n",
    "        sum_subarreglo = A[i]\n",
    "        for j in range(i + 1, n):\n",
    "            sum_subarreglo = sum_subarreglo + A[j]\n",
    "            if sum == sum_subarreglo:\n",
    "                return A[i:j + 1]"
   ],
   "metadata": {
    "collapsed": false,
    "ExecuteTime": {
     "end_time": "2023-12-13T18:29:07.352162100Z",
     "start_time": "2023-12-13T18:29:07.323521500Z"
    }
   },
   "id": "e30e9fd304308910"
  },
  {
   "cell_type": "code",
   "execution_count": 37,
   "outputs": [
    {
     "name": "stdout",
     "output_type": "stream",
     "text": [
      "[20, 3, 10]\n"
     ]
    }
   ],
   "source": [
    "# Caso de Prueba\n",
    "A = [1, 4, 20, 3, 10, 5]\n",
    "sum = 33\n",
    "subarreglo_sum = subarreglo(A, sum)\n",
    "print(subarreglo_sum)"
   ],
   "metadata": {
    "collapsed": false,
    "ExecuteTime": {
     "end_time": "2023-12-13T18:29:07.964484500Z",
     "start_time": "2023-12-13T18:29:07.952274500Z"
    }
   },
   "id": "4d49947e661fc7f5"
  },
  {
   "cell_type": "markdown",
   "source": [
    "7. Dado un arreglo $A[]$, encuentre el subarreglo continuo cuya suma es la más alta posible. Por ejemplo, para el arreglo $A[-2, -3, 4, -1, -2, 1, 5, -1]$, el subarreglo con la suma más alta de sus elementos es $A = [4, -1, -2, 1, 5]$ con una suma igual a $7$."
   ],
   "metadata": {
    "collapsed": false
   },
   "id": "eac547dff29c0677"
  },
  {
   "cell_type": "code",
   "execution_count": 41,
   "outputs": [],
   "source": [
    "def subarreglo_suma_maxima(A):\n",
    "    n = len(A)\n",
    "    max_sum = 0\n",
    "    for i in range(n):\n",
    "        sum_subarreglo = A[i]\n",
    "        for j in range(i + 1, n):\n",
    "            sum_subarreglo = sum_subarreglo + A[j]\n",
    "            if sum_subarreglo > max_sum:\n",
    "                max_sum = sum_subarreglo\n",
    "                subarreglo = A[i:j + 1]\n",
    "    return subarreglo, max_sum"
   ],
   "metadata": {
    "collapsed": false,
    "ExecuteTime": {
     "end_time": "2023-12-13T18:37:52.030664200Z",
     "start_time": "2023-12-13T18:37:52.015039200Z"
    }
   },
   "id": "9bb735c243fd8b2a"
  },
  {
   "cell_type": "code",
   "execution_count": 42,
   "outputs": [
    {
     "name": "stdout",
     "output_type": "stream",
     "text": [
      "[4, -1, -2, 1, 5]\n",
      "7\n"
     ]
    }
   ],
   "source": [
    "# Caso de Prueba\n",
    "A = [-2, -3, 4, -1, -2, 1, 5, -1]\n",
    "subarreglo_suma_max, suma_max = subarreglo_suma_maxima(A)\n",
    "print(subarreglo_suma_max)\n",
    "print(suma_max)"
   ],
   "metadata": {
    "collapsed": false,
    "ExecuteTime": {
     "end_time": "2023-12-13T18:37:52.409815800Z",
     "start_time": "2023-12-13T18:37:52.386173600Z"
    }
   },
   "id": "dbc56e65ef52d4df"
  },
  {
   "cell_type": "markdown",
   "source": [
    "## PARTE 1. MATRICES\n",
    "\n",
    "1. Dada una matriz M, rote los elementos de la matriz en el sentido de las manecillas del reloj. Ejemplos:\n",
    "ENTRADA: $[[1, 2, 3], [4, 5, 6], [7, 8, 9]]$\n",
    "SALIDA: $[[4, 1, 2], [7, 5, 3], [8, 9, 6]]$\n",
    "ENTRADA 2: $[[1, 2, 3, 4], [5, 6, 7, 8], [9, 10, 11, 12], [13, 14, 15, 16]]$\n",
    "SALIDA 2: $[[5, 1, 2, 3], [9, 10, 6, 4], [13, 11, 7, 8], [14, 15, 16, 12]]$"
   ],
   "metadata": {
    "collapsed": false
   },
   "id": "60d25e7d2fe77331"
  },
  {
   "cell_type": "code",
   "execution_count": 48,
   "outputs": [],
   "source": [
    "def rotar_matriz_manecillas(A):\n",
    "    row = 0\n",
    "    col = 0\n",
    "    n = len(A)\n",
    "    m = len(A[0])\n",
    "    while row < n and col < m:\n",
    "        if row + 1 == n or col + 1 == m:\n",
    "            break\n",
    "        prev = A[row + 1][col]\n",
    "        for i in range(col, m):\n",
    "            curr = A[row][i]\n",
    "            A[row][i] = prev\n",
    "            prev = curr\n",
    "        row += 1\n",
    "        for i in range(row, n):\n",
    "            curr = A[i][m - 1]\n",
    "            A[i][m - 1] = prev\n",
    "            prev = curr\n",
    "        m -= 1\n",
    "        if row < n:\n",
    "            for i in range(m - 1, col - 1, -1):\n",
    "                curr = A[n - 1][i]\n",
    "                A[n - 1][i] = prev\n",
    "                prev = curr\n",
    "        n -= 1\n",
    "        if col < m:\n",
    "            for i in range(n - 1, row - 1, -1):\n",
    "                curr = A[i][col]\n",
    "                A[i][col] = prev\n",
    "                prev = curr\n",
    "        col += 1\n",
    "    return A"
   ],
   "metadata": {
    "collapsed": false,
    "ExecuteTime": {
     "end_time": "2023-12-13T18:43:01.380550500Z",
     "start_time": "2023-12-13T18:43:01.360428800Z"
    }
   },
   "id": "912d278ce4190886"
  },
  {
   "cell_type": "code",
   "execution_count": 49,
   "outputs": [
    {
     "name": "stdout",
     "output_type": "stream",
     "text": [
      "[[4, 1, 2], [7, 5, 3], [8, 9, 6]]\n"
     ]
    }
   ],
   "source": [
    "# Caso de Prueba\n",
    "M = [[1, 2, 3], [4, 5, 6], [7, 8, 9]]\n",
    "M_rotada = rotar_matriz_manecillas(M)\n",
    "print(M_rotada)"
   ],
   "metadata": {
    "collapsed": false,
    "ExecuteTime": {
     "end_time": "2023-12-13T18:43:01.774662200Z",
     "start_time": "2023-12-13T18:43:01.756296200Z"
    }
   },
   "id": "59d59cc50219c2d5"
  },
  {
   "cell_type": "code",
   "execution_count": 50,
   "outputs": [
    {
     "name": "stdout",
     "output_type": "stream",
     "text": [
      "[[5, 1, 2, 3], [9, 10, 6, 4], [13, 11, 7, 8], [14, 15, 16, 12]]\n"
     ]
    }
   ],
   "source": [
    "# Caso de Prueba 2\n",
    "M = [[1, 2, 3, 4], [5, 6, 7, 8], [9, 10 ,11, 12], [13, 14, 15, 16]]\n",
    "M_rotada = rotar_matriz_manecillas(M)\n",
    "print(M_rotada)"
   ],
   "metadata": {
    "collapsed": false,
    "ExecuteTime": {
     "end_time": "2023-12-13T18:47:45.502335200Z",
     "start_time": "2023-12-13T18:47:45.476727300Z"
    }
   },
   "id": "2e00128dab20d09d"
  },
  {
   "cell_type": "markdown",
   "source": [
    "2. Dada una matriz cuadrada $M$, organice la matriz de tal forma que cada fila se encuentre en orden creciente. Por ejemplo:\n",
    "ENTRADA: $[[5, 1, 3], [8, 0, 6], [7, 5, 9]]$\n",
    "SALIDA: $[[1, 3, 5], [0, 6, 8], [5, 7, 9]]$"
   ],
   "metadata": {
    "collapsed": false
   },
   "id": "5a25d833043c0eea"
  },
  {
   "cell_type": "code",
   "execution_count": 53,
   "outputs": [],
   "source": [
    "def ordenamiento_inverso(A):\n",
    "    n = len(A)\n",
    "    for i in range(n - 1):\n",
    "        max_inx = i\n",
    "        for j in range(i + 1, n):\n",
    "            if A[j] < A[max_inx]:\n",
    "                max_inx = j\n",
    "        temp = A[max_inx]\n",
    "        A[max_inx] = A[i]\n",
    "        A[i] = temp\n",
    "    return A"
   ],
   "metadata": {
    "collapsed": false,
    "ExecuteTime": {
     "end_time": "2023-12-13T18:51:41.615374900Z",
     "start_time": "2023-12-13T18:51:41.598784500Z"
    }
   },
   "id": "5d4392d9d0701c44"
  },
  {
   "cell_type": "code",
   "execution_count": 54,
   "outputs": [],
   "source": [
    "def ordenar_filas(A):\n",
    "    n = len(A)\n",
    "    for i in range(n):\n",
    "        A[i] = ordenamiento_inverso(A[i])\n",
    "    return A"
   ],
   "metadata": {
    "collapsed": false,
    "ExecuteTime": {
     "end_time": "2023-12-13T18:51:42.228446200Z",
     "start_time": "2023-12-13T18:51:42.212508500Z"
    }
   },
   "id": "4089e8e8e6b6eac3"
  },
  {
   "cell_type": "code",
   "execution_count": 55,
   "outputs": [
    {
     "name": "stdout",
     "output_type": "stream",
     "text": [
      "[[1, 3, 5], [0, 6, 8], [5, 7, 9]]\n"
     ]
    }
   ],
   "source": [
    "# Caso de Prueba\n",
    "M = [[5, 1, 3], [8, 0, 6], [7, 5, 9]]\n",
    "M_ordenada = ordenar_filas(M)\n",
    "print(M_ordenada)"
   ],
   "metadata": {
    "collapsed": false,
    "ExecuteTime": {
     "end_time": "2023-12-13T18:51:42.842069100Z",
     "start_time": "2023-12-13T18:51:42.825600300Z"
    }
   },
   "id": "d1a8a43e39dfa0d9"
  },
  {
   "cell_type": "markdown",
   "source": [
    "3. Dada dos matrices $M$ y $N$, presente el algoritmo para realizar la multiplicación de las dos matrices, con las respectivas verificaciones de dimensiones."
   ],
   "metadata": {
    "collapsed": false
   },
   "id": "110e4a2228c422b4"
  },
  {
   "cell_type": "code",
   "execution_count": 56,
   "outputs": [],
   "source": [
    "def multiplicacion_matrices(M, N):\n",
    "    n = len(M)\n",
    "    m = len(N[0])\n",
    "    if len(M[0]) != len(N):\n",
    "        return \"No se puede realizar la multiplicación\"\n",
    "    else:\n",
    "        P = [[0 for i in range(m)] for j in range(n)]\n",
    "        for i in range(n):\n",
    "            for j in range(m):\n",
    "                for k in range(len(N)):\n",
    "                    P[i][j] += M[i][k] * N[k][j]\n",
    "        return P"
   ],
   "metadata": {
    "collapsed": false,
    "ExecuteTime": {
     "end_time": "2023-12-13T18:53:23.580795900Z",
     "start_time": "2023-12-13T18:53:23.561173900Z"
    }
   },
   "id": "8836c2a2c029fa2d"
  },
  {
   "cell_type": "code",
   "execution_count": 58,
   "outputs": [
    {
     "name": "stdout",
     "output_type": "stream",
     "text": [
      "[[58, 64], [139, 154]]\n"
     ]
    }
   ],
   "source": [
    "# Caso de Prueba\n",
    "M = [[1, 2, 3], [4, 5, 6]]\n",
    "N = [[7, 8], [9, 10], [11, 12]]\n",
    "P = multiplicacion_matrices(M, N)\n",
    "print(P) # Debe dar [[58, 64], [139, 154]]"
   ],
   "metadata": {
    "collapsed": false,
    "ExecuteTime": {
     "end_time": "2023-12-13T18:53:52.383845400Z",
     "start_time": "2023-12-13T18:53:52.363824900Z"
    }
   },
   "id": "213289d99a7523db"
  },
  {
   "cell_type": "markdown",
   "source": [
    "4. Dada una matriz $M$ y un entero $x$, encuentre la posición de $x$ en la matriz. Por ejemplo:\n",
    "ENTRADA: $[[5, 1, 3], [8, 0, 6], [7, 5, 9]]$ \\\n",
    "$x = 6$\\\n",
    "SALIDA: $[1, 2]$"
   ],
   "metadata": {
    "collapsed": false
   },
   "id": "7611d6e364d3e7a1"
  },
  {
   "cell_type": "code",
   "execution_count": 61,
   "outputs": [],
   "source": [
    "def posicion_x(M, x):\n",
    "    n = len(M)\n",
    "    m = len(M[0])\n",
    "    for i in range(n):\n",
    "        for j in range(m):\n",
    "            if M[i][j] == x:\n",
    "                return [i, j]"
   ],
   "metadata": {
    "collapsed": false,
    "ExecuteTime": {
     "end_time": "2023-12-13T18:56:15.335089300Z",
     "start_time": "2023-12-13T18:56:15.322221500Z"
    }
   },
   "id": "833fe5047b1a802c"
  },
  {
   "cell_type": "code",
   "execution_count": 62,
   "outputs": [
    {
     "name": "stdout",
     "output_type": "stream",
     "text": [
      "[1, 2]\n"
     ]
    }
   ],
   "source": [
    "# Caso de Prueba\n",
    "M = [[5, 1, 3], [8, 0, 6], [7, 5, 9]]\n",
    "x = 6\n",
    "posicion = posicion_x(M, x)\n",
    "print(posicion)"
   ],
   "metadata": {
    "collapsed": false,
    "ExecuteTime": {
     "end_time": "2023-12-13T18:56:15.954573700Z",
     "start_time": "2023-12-13T18:56:15.939142600Z"
    }
   },
   "id": "bf0aef7a4a56cd21"
  },
  {
   "cell_type": "markdown",
   "source": [
    "5. Dada una matriz $M$, encuentre un elemento que es un pico, es decir es mayor a sus cuatro vecinos(superior, inferior, derecha e izquierda). Por ejemplo:\n",
    "ENTRADA: $[[10, 20, 15], [21, 30, 14], [7, 16, 32]]$\n",
    "SALIDA: $[1, 1]$ posición del valor $30$"
   ],
   "metadata": {
    "collapsed": false
   },
   "id": "31ebf1f1c61dc17"
  },
  {
   "cell_type": "code",
   "execution_count": 76,
   "outputs": [],
   "source": [
    "def pico_matriz(M):\n",
    "    n = len(M)\n",
    "    m = len(M[0])\n",
    "    if n == m == 1 or (M[0][0] > M[0][1] & M[0][0] > M[1][0]):\n",
    "        return [0, 0]\n",
    "    if M[n - 1][0] > M[n - 2][0] & M[n - 1][0] > M[n - 1][1]:\n",
    "        return [n - 1, 0]\n",
    "    if M[0][m - 1] > M[0][m - 2] & M[0][m - 1] > M[1][m - 1]:\n",
    "        return [0, m - 1]\n",
    "    if M[n - 1][m - 1] > M[n - 2][m - 1] & M[n - 1][m - 2]:\n",
    "        return [n - 1, m - 1]\n",
    "    for i in range(1, m - 1):\n",
    "        if M[0][i] > M[0][i - 1] & M[0][i] > M[0][i + 1] & M[0][i] > M[1][i]:\n",
    "            return [0, i]\n",
    "        if M[n][i] > M[n][i - 1] & M[n][i] > M[n][i + 1] & M[n][i] > M[n - 1][i]:\n",
    "            return [n, i]\n",
    "    for i in range(1, n - 1):\n",
    "        if M[i][0] > M[i - 1][0] & M[i][0] > M[i + 1][0] & M[i][0] > M[i][1]:\n",
    "            return [i, 0]\n",
    "        if M[i][m] > M[i - 1][m] & M[i][m] > M[i + 1][m] & M[i][m] > M[i][m - 1]:\n",
    "            return [i, m]\n",
    "    for i in range(1, n - 1):\n",
    "        for j in range(1, m - 1):\n",
    "            if M[i][j] > M[i - 1][j] & M[i][j] > M[i + 1][j] & M[i][j] > M[i][j - 1] & M[i][j] > M[i][j - 1]:\n",
    "                return [i, j]"
   ],
   "metadata": {
    "collapsed": false,
    "ExecuteTime": {
     "end_time": "2023-12-13T19:32:19.675247300Z",
     "start_time": "2023-12-13T19:32:19.653472600Z"
    }
   },
   "id": "9e4b2e2c985f6e56"
  },
  {
   "cell_type": "code",
   "execution_count": 77,
   "outputs": [
    {
     "name": "stdout",
     "output_type": "stream",
     "text": [
      "[2, 2]\n"
     ]
    }
   ],
   "source": [
    "# Caso de Prueba\n",
    "M = [[10, 20, 15], [21, 30, 14], [7, 16, 32]]\n",
    "posicion_pico = pico_matriz(M)\n",
    "print(posicion_pico)"
   ],
   "metadata": {
    "collapsed": false,
    "ExecuteTime": {
     "end_time": "2023-12-13T19:32:20.317801300Z",
     "start_time": "2023-12-13T19:32:20.298088900Z"
    }
   },
   "id": "c3c0e2b4285fa133"
  }
 ],
 "metadata": {
  "kernelspec": {
   "display_name": "Python 3",
   "language": "python",
   "name": "python3"
  },
  "language_info": {
   "codemirror_mode": {
    "name": "ipython",
    "version": 2
   },
   "file_extension": ".py",
   "mimetype": "text/x-python",
   "name": "python",
   "nbconvert_exporter": "python",
   "pygments_lexer": "ipython2",
   "version": "2.7.6"
  }
 },
 "nbformat": 4,
 "nbformat_minor": 5
}
