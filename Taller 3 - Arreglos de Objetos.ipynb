{
 "cells": [
  {
   "cell_type": "markdown",
   "source": [
    "# TALLER 3: ARREGLOS DE OBJETOS\n",
    "\n",
    "Este taller busca que el estudiante domine las operaciones de insertar, eliminar, buscar y ordenar en la estructura de datos lineal de arreglos. Los talleres son herramientas de estudio, y no tienen asignada una ponderación dentro de las evaluaciones del curso. Se recomienda desarrollar cada problema mediante la presentación de un Pseudocódigo, y en el caso de diseño de clase mediante diagramas de clase. Sin embargo, si el estudiante puede solucionar cada problema empleando un lenguaje de programación de alto nivel.\n",
    "\n",
    "## PROBLEMA 1:\n",
    "Supongamos que tenemos implementada la clase Book presentada en el siguiente diagrama de clases. La Tabla 1 describe cada atributo y método de la clase Book."
   ],
   "metadata": {
    "collapsed": false
   },
   "id": "c83e6ff32c27f1b4"
  },
  {
   "cell_type": "code",
   "execution_count": 3,
   "outputs": [],
   "source": [
    "class Book:\n",
    "    def __init__(self, title, author):\n",
    "        self.title = title\n",
    "        self.author = author\n",
    "        self.idBook = 0\n",
    "        self.noBook = 0\n",
    "        \n",
    "    def setIdBook(self, idBook):\n",
    "        self.idBook = idBook\n",
    "        \n",
    "    def setNoBook(self, noBook):\n",
    "        self.noBook = noBook\n",
    "        \n",
    "    def getIdBook(self):\n",
    "        return self.idBook\n",
    "    \n",
    "    def getNoBook(self):\n",
    "        return self.noBook\n",
    "    \n",
    "    def prestar(self):\n",
    "        if self.noBook > 0:\n",
    "            self.noBook -= 1\n",
    "            return True\n",
    "        else:\n",
    "            return False\n",
    "        \n",
    "    def retornar(self):\n",
    "        self.noBook += 1\n",
    "        \n",
    "    def toString(self):\n",
    "        return \"Title: \" + self.title + \", Author: \" + self.author + \", IdBook: \" + str(self.idBook) + \", NoBook: \" + str(self.noBook)"
   ],
   "metadata": {
    "collapsed": false,
    "ExecuteTime": {
     "end_time": "2023-12-13T22:22:22.592395900Z",
     "start_time": "2023-12-13T22:22:22.555776Z"
    }
   },
   "id": "ff9e42a5ae7c79ec"
  },
  {
   "cell_type": "markdown",
   "source": [
    "1. Presente el diagrama de clases para BookCollection, una clase que permite administrar una colección de libros. La clase BookCollection debe usar un arreglo de libros. Incluya el constructor, un método que permita agregar un libro a la colección, un método para eliminar un libro dado el idBook, un método que busca un libro específico dado el idBook y retorna su posición en el arreglo, un método que preste un libro dado el idBook, y un método para retornar un libro.\n",
    "2. Presente el algoritmo para agregar un nuevo libro de la clase BookCollection\n",
    "3. Presente el algoritmo para el método de eliminar un libro dada el idBook en la clase BookCollection\n",
    "4. Presente el algoritmo que permita buscar un libro en BookCollection dado un idBook, el método debe retornar la posición del libro en el arreglo\n",
    "5. Presente el algoritmo que permita prestar un libro de la colección dad un idBook\n",
    "6. Presente el algoritmo que permita devolver un libro a la colección"
   ],
   "metadata": {
    "collapsed": false
   },
   "id": "99bca4af1e57251a"
  },
  {
   "cell_type": "code",
   "execution_count": 5,
   "outputs": [],
   "source": [
    "class BookCollection:\n",
    "    def __init__(self):\n",
    "        self.books = []\n",
    "        self.noBooks = 0\n",
    "        \n",
    "    def add(self, book):\n",
    "        book.setIdBook(self.noBooks)\n",
    "        self.books.append(book)\n",
    "        self.noBooks += 1\n",
    "        \n",
    "    def remove(self, idBook):\n",
    "        for i in range(len(self.books)):\n",
    "            if self.books[i].getIdBook() == idBook:\n",
    "                libro = self.books.pop(i)\n",
    "                self.noBooks -= 1\n",
    "                return libro\n",
    "        return None\n",
    "    \n",
    "    def find(self, idBook):\n",
    "        for i in range(len(self.books)):\n",
    "            if self.books[i].getIdBook() == idBook:\n",
    "                return i\n",
    "        return None\n",
    "    \n",
    "    def prestar(self, idBook):\n",
    "        for i in range(len(self.books)):\n",
    "            if self.books[i].getIdBook() == idBook:\n",
    "                return self.books[i].prestar()\n",
    "        return False\n",
    "    \n",
    "    def retornar(self, idBook):\n",
    "        for i in range(len(self.books)):\n",
    "            if self.books[i].getIdBook() == idBook:\n",
    "                self.books[i].retornar()\n",
    "                return True\n",
    "        return False"
   ],
   "metadata": {
    "collapsed": false,
    "ExecuteTime": {
     "end_time": "2023-12-13T22:27:34.160965800Z",
     "start_time": "2023-12-13T22:27:34.152539500Z"
    }
   },
   "id": "3db83d29a4bf7a95"
  },
  {
   "cell_type": "markdown",
   "source": [
    "## PROBLEMA 2:\n",
    "\n",
    "Vamos a asumir que se tiene la implementación de las clases presentadas en el diagrama de clases de la Figura 1. La clas e CuentaBancaria incluye atributos para almacenar el nombre de un cliente, su número de cuenta y el saldo actual de la cuenta. Los métodos que se incluyen en la clase CuentaBancaria son: un constructor que recibe el nombre (n) y el número de la cuenta (c), los respectivos “gettings” que permiten acceder al nombre del cliente, la cuenta y el saldo, así como dos métodos que permiten consignar dinero a la cuenta o retirar dinero de la misma. Las clases CuentaAhorros, CuentaCorriente, y CreditoRotativo son diferentes tipos de cuentas bancarias. La cuenta de ahorros genera un saldo a favor de acuerdo con el interés mensual, el saldo se actualiza a través del método actualizarSaldo(). Por su parte, la cuenta corriente cobra una cuota de manejo cada mes, descontando este valor al saldo de la cuenta a través del método actualizarSaldo(). Por último, el crédito rotativo cobra una cuota mensual que es calculada a partir del saldo e interés mensual; el pago de la cuota se realiza a través del método consignar, los retiros se pueden realizar siempre que el saldo sea menor al cupo del credito (cp en el constructor)\n",
    "\n",
    "Considere una clase Clientes() que permite administrar una colección de 100 cuentas bancarias de un banco. Presente los algoritmos para realizar las siguientes operaciones en la colección:\n",
    "1. Retornar el nombre de cliente con el saldo de la cuenta más alto en la colección\n",
    "2. Calcular el valor promedio de los saldos de las cuentas en la colección\n",
    "3. Dado el número de cuenta un valor a consignar, realizar la operación de consignar\n",
    "4. Suponga que la colección no se encuentra organizada, presente el algoritmo para organizar la colección por el número de cuenta de menor a mayor"
   ],
   "metadata": {
    "collapsed": false
   },
   "id": "1d72f54046bbe5fc"
  },
  {
   "cell_type": "markdown",
   "source": [
    "```python\n",
    "def mayorSaldo():\n",
    "    if noCuentas > 0:\n",
    "        temp = cuentas[0]\n",
    "        for i in range (1, noCuentas):\n",
    "            if cuentas[i].getSaldo() > temp.getSaldo():\n",
    "                temp = cuentas[i]\n",
    "        return temp.getCliente()\n",
    "    return null\n",
    "```\n",
    "\n",
    "```python\n",
    "def promedio():\n",
    "    sum = 0\n",
    "    for i in range(noCuentas):\n",
    "        sum += cuentas[i].getSaldo()\n",
    "    return sum / noCuentas\n",
    "```\n",
    "\n",
    "```python\n",
    "def consignar(no, S):\n",
    "    inx = find(no)\n",
    "    if inx >= 0:\n",
    "        cuentas[inx].consignar(S)\n",
    "        return True\n",
    "    return False\n",
    "```\n",
    "\n",
    "```python\n",
    "def sortCuentas1():\n",
    "    A = CuentaBancaria[cuentas.length()]\n",
    "    for i in range(1, noCuentas):\n",
    "        A[i] = insertSort(A, cuentas[i], i)\n",
    "    cuentas = A\n",
    "```\n",
    "\n",
    "```python\n",
    "def insertSort(A,cuenta,inx):\n",
    "    A[inx] = cuenta\n",
    "    inx += 1\n",
    "    temp = inx - 1\n",
    "    while temp > 0 and A[temp].getNoCuenta() > cuenta.getNoCuenta():\n",
    "        A[temp + 1] = A[temp]\n",
    "        temp -= 1\n",
    "    A[temp] = cuenta\n",
    "    return A\n",
    "```\n",
    "\n",
    "```python\n",
    "def sortCuentas2():\n",
    "    cuentas = MergeSortCuentas(cuentas, 0, cuentas.length())\n",
    "```\n",
    "\n",
    "```python\n",
    "def MergeSortCuentas(C, p, r):\n",
    "    q = floor((p + r) / 2)\n",
    "    Mergesort(C, p, q)\n",
    "    Mergesort(C, q + 1, r)\n",
    "    Merge(C, p, q, r)\n",
    "```\n",
    "\n",
    "```python\n",
    "def Merge(C, p, q, r):\n",
    "    n1 = q - p + 1\n",
    "    n2 = r - q\n",
    "    for i in range(n1):\n",
    "        L[i] = C[p + i - 1]\n",
    "    for i in range(n2):\n",
    "        R[i] = C[q + i]\n",
    "    L[n1] = inf\n",
    "    R[n2] = inf\n",
    "    i = 0\n",
    "    j = 0\n",
    "    for k in range(p, r):\n",
    "        if L[i].getNoCuenta() <= R[j].getNoCuenta():\n",
    "            C[k] = L[i]\n",
    "            i += 1\n",
    "        else:\n",
    "            C[k] = R[j]\n",
    "            j += 1\n",
    "```"
   ],
   "metadata": {
    "collapsed": false
   },
   "id": "71828c2cfb1f804a"
  }
 ],
 "metadata": {
  "kernelspec": {
   "display_name": "Python 3",
   "language": "python",
   "name": "python3"
  },
  "language_info": {
   "codemirror_mode": {
    "name": "ipython",
    "version": 2
   },
   "file_extension": ".py",
   "mimetype": "text/x-python",
   "name": "python",
   "nbconvert_exporter": "python",
   "pygments_lexer": "ipython2",
   "version": "2.7.6"
  }
 },
 "nbformat": 4,
 "nbformat_minor": 5
}
