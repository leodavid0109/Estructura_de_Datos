{
 "cells": [
  {
   "cell_type": "markdown",
   "source": [
    "# Taller 4 - Análisis de Complejidad\n",
    "\n",
    "## Problema 1\n",
    "Organice el siguiente conjunto de funciones de acuerdo con el crecimiento asintótico:\n",
    "\n",
    "1. $n^2 log(n) \\quad , \\quad n^3 \\quad , \\quad log(log(n)) \\quad , \\quad n^2$\n",
    "2. $3n + 7log(n) \\quad , \\quad 4n log(n) \\quad , \\quad 2n^6 + log(n) \\quad , \\quad 2^{n + 3} \\quad , \\quad 100n + 5$\n",
    "3. $n^2 \\quad , \\quad 1.00001^n \\quad , \\quad n^{0.999999} log(n) \\quad , \\quad 1000000n$\n",
    "\n",
    "### Solución\n",
    "\n",
    "1. $log(log(n)) \\quad , \\quad n^2 \\quad , \\quad n^2 log(n) \\quad , \\quad n^3$\n",
    "2. $100n + 5 \\quad , \\quad 3n + 7log(n) \\quad , \\quad 4n log(n) \\quad , \\quad 2n^6 + log(n) \\quad , \\quad 2^{n + 3}$\n",
    "3. $1000000n \\quad , \\quad n^{0.999999} log(n) \\quad , \\quad n^2 \\quad , \\quad 1.00001^n$"
   ],
   "metadata": {
    "collapsed": false
   },
   "id": "8438cfe6dd6a343d"
  },
  {
   "cell_type": "markdown",
   "source": [
    "## Problema 2\n",
    "\n",
    "Determine el tiempo de ejecución, en el peor y mejor de los casos, y cuando aplique en el caso promedio para los algoritmos desarrollados en el Taller 1.\n",
    "\n",
    "- **inversionArreglo(A):**\n",
    "-- Mejor caso: $\\Omega(n)$\n",
    "-- Peor caso: $O(n)$\n",
    "- **valorPico(A):**\n",
    "-- Mejor caso: $\\Omega(1)$\n",
    "-- Peor caso: $O(n)$\n",
    "- **selectionSortInv(A):**\n",
    "-- Mejor caso: $\\Omega(n^2)$\n",
    "-- Peor caso: $O(n^2)$\n",
    "- **kMasPeque(A):**\n",
    "-- Mejor caso: $\\Omega(n^2)$\n",
    "-- Peor caso: $O(n^2)$\n",
    "- **Ocurrencias(A, x):**\n",
    "-- Mejor caso: $\\Omega(n)$\n",
    "-- Peor caso: $O(n)$\n",
    "- **subArraySum(A, sum):**\n",
    "-- Mejor caso: $\\Omega(1)$\n",
    "-- Peor caso: $O(n^2)$\n",
    "- **maxSumSub(A):**\n",
    "-- Mejor caso: $\\Omega(n)$\n",
    "-- Peor caso: $O(n^2)$"
   ],
   "metadata": {
    "collapsed": false
   },
   "id": "a00cabf3340824ca"
  },
  {
   "cell_type": "markdown",
   "source": [
    "## Problema 3\n",
    "\n",
    "Un arreglo $A$ contiene todos los enteros desde el $0$ hasta $n - 1$ excepto un valor, donde $n$ corresponde a la longitud del arreglo. Presente un algoritmo que determine cuál es el entero que no se encuentra en el arreglo y que sea $O(n)$"
   ],
   "metadata": {
    "collapsed": false
   },
   "id": "bd06308c1e38fccd"
  },
  {
   "cell_type": "code",
   "execution_count": null,
   "id": "initial_id",
   "metadata": {
    "collapsed": true
   },
   "outputs": [],
   "source": [
    "def find(A, n):\n",
    "    B = [0] * n\n",
    "    for i in range(n):\n",
    "        B[A[i]] = 1\n",
    "    i = 0\n",
    "    while i < n:\n",
    "        if B[i] == 0:\n",
    "            return i\n",
    "        i += 1"
   ]
  },
  {
   "cell_type": "markdown",
   "source": [
    "## Problema 4\n",
    "\n",
    "Considere organizar $n$ números en un arreglo $A$ buscando en cada iteración el elemento más pequeño e intercambiándolo con el elemento $A[i]$. Es decir, en la primera iteración, se busca el menor valor y se intercambia con la posición $A[0]$; en la segunda iteración, se busca el menor valor en el subarreglo $A[1…n 1]$ y se intercambia con la posición $A[1]$; y así sucesivamente. Este algoritmo se conoce como el algoritmo de selección. Presente el pseudocódigo que realiza esta operación y determine el costo computacional en el mejor y peor de los casos."
   ],
   "metadata": {
    "collapsed": false
   },
   "id": "f234b5298d118f98"
  },
  {
   "cell_type": "code",
   "execution_count": null,
   "outputs": [],
   "source": [
    "def selectionSort(A):\n",
    "    n = len(A)\n",
    "    for i in range(n):\n",
    "        min = i\n",
    "        for j in range(i + 1, n):\n",
    "            if A[j] < A[min]:\n",
    "                min = j\n",
    "        A[i], A[min] = A[min], A[i]"
   ],
   "metadata": {
    "collapsed": false
   },
   "id": "b03de1e69c686fe0"
  },
  {
   "cell_type": "markdown",
   "source": [
    "## Problema 5\n",
    "\n",
    "Dado un arreglo $A$ y un valor $x$, realice una búsqueda lineal en el arreglo, es decir busque el valor $x$ de manera secuencial en el arreglo $A$. Presente el pseudocódigo que realiza esta operación y determine el costo computación en el mejor y peor de los casos."
   ],
   "metadata": {
    "collapsed": false
   },
   "id": "b0736ef1a14e6633"
  },
  {
   "cell_type": "code",
   "execution_count": null,
   "outputs": [],
   "source": [
    "def linearSearch(A, x):\n",
    "    n = len(A)\n",
    "    for i in range(n):\n",
    "        if A[i] == x:\n",
    "            return i\n",
    "    return -1"
   ],
   "metadata": {
    "collapsed": false
   },
   "id": "37a772ef750ee775"
  },
  {
   "cell_type": "markdown",
   "source": [
    "- Mejor caso: $\\Omega(1)$\n",
    "- Peor caso: $O(n)$"
   ],
   "metadata": {
    "collapsed": false
   },
   "id": "e9941a88a2121f89"
  }
 ],
 "metadata": {
  "kernelspec": {
   "display_name": "Python 3",
   "language": "python",
   "name": "python3"
  },
  "language_info": {
   "codemirror_mode": {
    "name": "ipython",
    "version": 2
   },
   "file_extension": ".py",
   "mimetype": "text/x-python",
   "name": "python",
   "nbconvert_exporter": "python",
   "pygments_lexer": "ipython2",
   "version": "2.7.6"
  }
 },
 "nbformat": 4,
 "nbformat_minor": 5
}
