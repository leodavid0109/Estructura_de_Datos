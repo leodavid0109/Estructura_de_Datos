{
 "cells": [
  {
   "cell_type": "markdown",
   "source": [
    "# TALLER 7: LISTAS ENLAZADAS DOBLES"
   ],
   "metadata": {
    "collapsed": false
   },
   "id": "17b085502d468d8f"
  },
  {
   "cell_type": "markdown",
   "source": [
    "### Ejercicio 1\n",
    "El algoritmo Bubble Sort es un algoritmo de ordenación simple que funciona comparando pares de elementos adyacentes y, si están en el orden incorrecto, intercambiándolos. Este proceso se repite hasta que no se hacen más intercambios, lo que significa que la lista está ordenada.\n",
    "Para implementar Bubble Sort en una lista doblemente enlazada, podemos utilizar el siguiente algoritmo:\n",
    "1. Empezar en la cabeza de la lista.\n",
    "2. Comparar el nodo actual con el siguiente nodo.\n",
    "3. Si el nodo actual es mayor que el siguiente nodo, intercambiar los dos nodos.\n",
    "4. Mover el nodo actual al siguiente nodo.\n",
    "5. Repetir los pasos 2 a 4 hasta que se llegue al final de la lista.\n",
    "6. Si se hicieron intercambios en el paso 5, repetir los pasos 2 a 5."
   ],
   "metadata": {
    "collapsed": false
   },
   "id": "1fdf1dbbcce6ccaa"
  },
  {
   "cell_type": "code",
   "execution_count": null,
   "id": "initial_id",
   "metadata": {
    "collapsed": true
   },
   "outputs": [],
   "source": [
    "def bubble_sort(head):\n",
    "  \"\"\"\n",
    "  Ordena una lista doblemente enlazada usando el algoritmo Bubble Sort.\n",
    "  Args:\n",
    "    head: La cabeza de la lista doblemente enlazada.\n",
    "  Returns:\n",
    "    La cabeza de la lista doblemente enlazada ordenada.\n",
    "  \"\"\"\n",
    "  while True:\n",
    "    swapped = False\n",
    "    current = head\n",
    "    while current.next is not None:\n",
    "      if current.data > current.next.data:\n",
    "        current.data, current.next.data = current.next.data, current.data\n",
    "        swapped = True\n",
    "      current = current.next\n",
    "    if not swapped:\n",
    "      break\n",
    "  return head"
   ]
  },
  {
   "cell_type": "markdown",
   "source": [
    "### Ejercicio 2\n",
    "El algoritmo para eliminar nodos duplicados de una lista doblemente enlazada es el siguiente:\n",
    "1. Crear un conjunto para almacenar los valores de los nodos que ya han sido vistos.\n",
    "2. Crear un puntero a la cabeza de la lista doblemente enlazada.\n",
    "3. Mientras el puntero no sea nulo, hacer lo siguiente:\n",
    "    * Si el valor del nodo actual está en el conjunto, entonces:\n",
    "        * Eliminar el nodo actual de la lista doblemente enlazada.\n",
    "    * De lo contrario, añadir el valor del nodo actual al conjunto.\n",
    "    * Mover el puntero al siguiente nodo de la lista doblemente enlazada.\n",
    "4. Devolver la cabeza de la lista doblemente enlazada.\n",
    "El algoritmo tiene una complejidad temporal de O(n), donde n es el número de nodos de la lista doblemente enlazada."
   ],
   "metadata": {
    "collapsed": false
   },
   "id": "e23b10e73c87850c"
  },
  {
   "cell_type": "code",
   "execution_count": null,
   "outputs": [],
   "source": [
    "def remove_duplicates(head):\n",
    "  \"\"\"\n",
    "  Elimina los nodos con valores duplicados de una lista doblemente enlazada,\n",
    "  de forma que se mantenga la primera aparición de cada valor y se conserve el orden original de los nodos.\n",
    "  Args:\n",
    "    head: La cabeza de la lista doblemente enlazada.\n",
    "  Returns:\n",
    "    La cabeza de la lista doblemente enlazada sin nodos duplicados.\n",
    "  \"\"\"\n",
    "  seen = set()\n",
    "  current = head\n",
    "  while current is not None:\n",
    "    if current.data in seen:\n",
    "      prev.next = current.next\n",
    "      current.next.prev = prev\n",
    "    else:\n",
    "      seen.add(current.data)\n",
    "      prev = current\n",
    "    current = current.next\n",
    "  return head"
   ],
   "metadata": {
    "collapsed": false
   },
   "id": "9af4a62c5c076cac"
  },
  {
   "cell_type": "markdown",
   "source": [
    "### Ejercicio 3\n",
    "Para resolver este ejercicio, podemos usar el siguiente algoritmo:\n",
    "1. Crear una nueva lista doblemente enlazada vacía.\n",
    "2. Recorrer la lista original de derecha a izquierda.\n",
    "3. Para cada nodo de la lista original, hacer lo siguiente:\n",
    "    * Sumar el valor del nodo al valor del nodo correspondiente de la nueva lista.\n",
    "    * Si la suma es mayor o igual que 10, entonces:\n",
    "        * Restar 10 de la suma.\n",
    "        * Añadir el dígito de la suma a la nueva lista.\n",
    "        * Añadir un nuevo nodo a la nueva lista con el valor 1.\n",
    "    * En caso contrario, añadir el dígito de la suma a la nueva lista.\n",
    "4. Devolver la nueva lista.\n",
    "Por ejemplo, si la lista original es 52↔1, entonces el algoritmo devolverá la lista 10↔4↔2."
   ],
   "metadata": {
    "collapsed": false
   },
   "id": "64865637667103ca"
  },
  {
   "cell_type": "code",
   "execution_count": null,
   "outputs": [],
   "source": [
    "def double_linked_list(head):\n",
    "  \"\"\"\n",
    "  Dada una lista doblemente enlazada que representa un número entero positivo (cada nodo contiene\n",
    "  un dígito), devuelva otra lista doblemente enlazada que represente el doble de dicho número. Por\n",
    "  ejemplo, si Les 52↔1, 521 * 2 = 1042 y por tanto su algoritmo debe devolver 10↔4↔2.\n",
    "  (hint: La idea es ir calculando el resultado a medida que se recorre la lista, no calcular el número completo\n",
    "  que representa y después crear otra lista con su doble).\n",
    "  \"\"\"\n",
    "  # Crear una nueva lista doblemente enlazada vacía.\n",
    "  new_head = None\n",
    "  # Recorrer la lista original de derecha a izquierda.\n",
    "  while head is not None:\n",
    "    # Para cada nodo de la lista original, hacer lo siguiente:\n",
    "    # Sumar el valor del nodo al valor del nodo correspondiente de la nueva lista.\n",
    "    sum = head.val + (new_head.val if new_head is not None else 0)\n",
    "    # Si la suma es mayor o igual que 10, entonces:\n",
    "    if sum >= 10:\n",
    "      # Restar 10 de la suma.\n",
    "      sum -= 10\n",
    "      # Añadir el dígito de la suma a la nueva lista.\n",
    "      new_head = Node(sum, new_head)\n",
    "      # Añadir un nuevo nodo a la nueva lista con el valor 1.\n",
    "      new_head = Node(1, new_head)\n",
    "    # En caso contrario, añadir el dígito de la suma a la nueva lista.\n",
    "    else:\n",
    "      new_head = Node(sum, new_head)\n",
    "    # Avanzar al siguiente nodo de la lista original.\n",
    "    head = head.next\n",
    "  # Devolver la nueva lista.\n",
    "  return new_head"
   ],
   "metadata": {
    "collapsed": false
   },
   "id": "9d088c05c07e10e7"
  },
  {
   "cell_type": "markdown",
   "source": [
    "### Ejercicio 4\n",
    "El algoritmo funciona de la siguiente manera:\n",
    "1. Crear una nueva lista doblemente enlazada vacía.\n",
    "2. Recorrer las dos listas originales de derecha a izquierda.\n",
    "3. Para cada nodo de las listas originales, hacer lo siguiente:\n",
    "    * Sumar el valor del nodo de la primera lista al valor del nodo de la segunda lista.\n",
    "    * Si la suma es mayor o igual que 10, entonces:\n",
    "        * Restar 10 de la suma.\n",
    "        * Añadir el dígito de la suma a la nueva lista.\n",
    "        * Añadir un nuevo nodo a la nueva lista con el valor 1.\n",
    "    * En caso contrario, añadir el dígito de la suma a la nueva lista.\n",
    "4. Avanzar al siguiente nodo de las listas originales.\n",
    "5. Devolver la nueva lista."
   ],
   "metadata": {
    "collapsed": false
   },
   "id": "1c8a4d408e8c4fe8"
  },
  {
   "cell_type": "code",
   "execution_count": null,
   "outputs": [],
   "source": [
    "def add_two_doubly_linked_lists(head1, head2):\n",
    "  \"\"\"\n",
    "  Esta función toma dos listas doblemente enlazadas que representan cada una un número entero positivo (cada nodo contiene un dígito) y devuelve otra lista doblemente enlazada que representa la suma de ambos números.\n",
    "  Args:\n",
    "    head1: La cabeza de la primera lista doblemente enlazada.\n",
    "    head2: La cabeza de la segunda lista doblemente enlazada.\n",
    "  Returns:\n",
    "    La cabeza de la nueva lista doblemente enlazada que representa la suma de los dos números.\n",
    "  \"\"\"\n",
    "  # Crear una nueva lista doblemente enlazada vacía.\n",
    "  new_head = None\n",
    "  # Recorrer las dos listas originales de derecha a izquierda.\n",
    "  while head1 is not None or head2 is not None:\n",
    "    # Para cada nodo de las listas originales, hacer lo siguiente:\n",
    "    # Sumar el valor del nodo de la primera lista al valor del nodo de la segunda lista.\n",
    "    sum = (head1.val if head1 is not None else 0) + (head2.val if head2 is not None else 0)\n",
    "    # Si la suma es mayor o igual que 10, entonces:\n",
    "    if sum >= 10:\n",
    "      # Restar 10 de la suma.\n",
    "      sum -= 10\n",
    "      # Añadir el dígito de la suma a la nueva lista.\n",
    "      new_head = Node(sum, new_head)\n",
    "      # Añadir un nuevo nodo a la nueva lista con el valor 1.\n",
    "      new_head = Node(1, new_head)\n",
    "    # En caso contrario, añadir el dígito de la suma a la nueva lista.\n",
    "    else:\n",
    "      new_head = Node(sum, new_head)\n",
    "    # Avanzar al siguiente nodo de las listas originales.\n",
    "    head1 = head1.next if head1 is not None else None\n",
    "    head2 = head2.next if head2 is not None else None\n",
    "  # Devolver la nueva lista.\n",
    "  return new_head"
   ],
   "metadata": {
    "collapsed": false
   },
   "id": "a92112ac02be52b7"
  },
  {
   "cell_type": "markdown",
   "source": [
    "### Ejercicio 5\n",
    "El algoritmo funciona de la siguiente manera:\n",
    "1. Primero, comprueba si los índices de inicio y finalización de la sublista son válidos. Si no lo son, el algoritmo devuelve un error.\n",
    "2. Si los índices son válidos, el algoritmo obtiene los nodos de inicio y finalización de la sublista.\n",
    "3. A continuación, el algoritmo invierte la sublista invirtiendo los punteros de los nodos de la sublista.\n",
    "4. Finalmente, el algoritmo actualiza los punteros de la lista doblemente enlazada para reflejar la sublista invertida."
   ],
   "metadata": {
    "collapsed": false
   },
   "id": "4f6a62b6290542c"
  },
  {
   "cell_type": "code",
   "execution_count": null,
   "outputs": [],
   "source": [
    "def reverse_sublist(L, n, m):\n",
    "  \"\"\"\n",
    "  Invierte la sublista de L L[n:m] in-place.\n",
    "  Args:\n",
    "    L: La lista doblemente enlazada.\n",
    "    n: El índice de inicio de la sublista.\n",
    "    m: El índice de finalización de la sublista.\n",
    "  Returns:\n",
    "    La lista doblemente enlazada con la sublista invertida.\n",
    "  \"\"\"\n",
    "  # Comprobar si los índices son válidos.\n",
    "  if n < 0 or n > m or m >= len(L):\n",
    "    raise ValueError(\"Los índices no son válidos.\")\n",
    "  # Obtener los nodos de inicio y final de la sublista.\n",
    "  start_node = L[n]\n",
    "  end_node = L[m]\n",
    "  # Invertir la sublista.\n",
    "  prev_node = None\n",
    "  current_node = start_node\n",
    "  while current_node is not None:\n",
    "    next_node = current_node.next\n",
    "    current_node.next = prev_node\n",
    "    prev_node = current_node\n",
    "    current_node = next_node\n",
    "  # Actualizar los punteros de la lista doblemente enlazada.\n",
    "  start_node.prev = end_node\n",
    "  end_node.next = start_node\n",
    "  # Devolver la lista doblemente enlazada con la sublista invertida.\n",
    "  return L"
   ],
   "metadata": {
    "collapsed": false
   },
   "id": "c9ca0c3f08c5b098"
  },
  {
   "cell_type": "markdown",
   "source": [
    "### Ejercicio 6\n",
    "El algoritmo funciona de la siguiente manera:\n",
    "1. Primero, comprueba si la lista doblemente enlazada está vacía. Si lo está, devuelve la lista vacía.\n",
    "2. Si la lista no está vacía, el algoritmo busca la última ocurrencia del valor k en la lista.\n",
    "3. Si se encuentra la última ocurrencia de k, el algoritmo elimina el nodo de la lista.\n",
    "4. Si no se encuentra la última ocurrencia de k, el algoritmo devuelve la lista original.\n",
    "El algoritmo tiene una complejidad temporal de O(n), donde n es el número de nodos de la lista doblemente enlazada."
   ],
   "metadata": {
    "collapsed": false
   },
   "id": "c92565d6370cd67e"
  },
  {
   "cell_type": "code",
   "execution_count": null,
   "outputs": [],
   "source": [
    "def remove_last_occurrence(L, k):\n",
    "  \"\"\"\n",
    "  Elimina la última ocurrencia de k en L.\n",
    "  Args:\n",
    "    L: La lista doblemente enlazada.\n",
    "    k: El valor a eliminar.\n",
    "  Returns:\n",
    "    La lista doblemente enlazada con la última ocurrencia de k eliminada.\n",
    "  \"\"\"\n",
    "  # Buscar la última ocurrencia de k en L.\n",
    "  node = L.head\n",
    "  while node is not None:\n",
    "    if node.value == k:\n",
    "      last_occurrence = node\n",
    "    node = node.next\n",
    "  # Si no se encontró ninguna ocurrencia de k, devolver L.\n",
    "  if last_occurrence is None:\n",
    "    return L\n",
    "  # Eliminar la última ocurrencia de k de L.\n",
    "  if last_occurrence.prev is not None:\n",
    "    last_occurrence.prev.next = last_occurrence.next\n",
    "  if last_occurrence.next is not None:\n",
    "    last_occurrence.next.prev = last_occurrence.prev\n",
    "  # Devolver L con la última ocurrencia de k eliminada.\n",
    "  return L"
   ],
   "metadata": {
    "collapsed": false
   },
   "id": "a7c93966effbce8c"
  },
  {
   "cell_type": "markdown",
   "source": [
    "### Ejercicio 7\n",
    " El algoritmo funciona de la siguiente manera:\n",
    "1. Primero, comprueba si la lista doblemente enlazada está vacía o si el índice k es mayor que la longitud de la lista. Si se cumple alguna de estas condiciones, devuelve la lista original.\n",
    "2. Si la lista no está vacía y el índice k es válido, el algoritmo encuentra el k-ésimo nodo desde el principio de la lista y el k-ésimo nodo desde el final de la lista.\n",
    "3. Una vez encontrados los dos nodos, el algoritmo intercambia sus valores.\n",
    "4. Finalmente, el algoritmo devuelve la lista con los nodos intercambiados.\n",
    "La complejidad temporal del algoritmo es O(n), donde n es la longitud de la lista doblemente enlazada."
   ],
   "metadata": {
    "collapsed": false
   },
   "id": "4c3f26646312f003"
  },
  {
   "cell_type": "code",
   "execution_count": null,
   "outputs": [],
   "source": [
    "def swap_kth_nodes(L, k):\n",
    "  \"\"\"\n",
    "  Intercambia el k-ésimo nodo desde el principio con el k-ésimo nodo desde el final.\n",
    "  Args:\n",
    "    L: La lista doblemente enlazada.\n",
    "    k: El índice del nodo a intercambiar.\n",
    "  Returns:\n",
    "    La lista doblemente enlazada con los nodos intercambiados.\n",
    "  \"\"\"\n",
    "  # Comprobar si la lista está vacía o si k es mayor que la longitud de la lista.\n",
    "  if L.is_empty() or k > L.size():\n",
    "    return L\n",
    "  # Encontrar el k-ésimo nodo desde el principio y el k-ésimo nodo desde el final.\n",
    "  node1 = L.head\n",
    "  for _ in range(k - 1):\n",
    "    node1 = node1.next\n",
    "  node2 = L.tail\n",
    "  for _ in range(k - 1):\n",
    "    node2 = node2.prev\n",
    "  # Intercambiar los nodos.\n",
    "  node1.value, node2.value = node2.value, node1.value\n",
    "  # Devolver la lista con los nodos intercambiados.\n",
    "  return L"
   ],
   "metadata": {
    "collapsed": false
   },
   "id": "4e4e966f120d6682"
  },
  {
   "cell_type": "markdown",
   "source": [
    "### Ejercicio 8\n",
    "El algoritmo funciona de la siguiente manera:\n",
    "1. Primero, comprueba si la lista está vacía. Si lo está, devuelve una lista vacía.\n",
    "2. Si la lista no está vacía, crea una lista para almacenar los pares.\n",
    "3. Crea dos punteros, uno que empiece como el primer nodo de la lista y el otro como el último.\n",
    "4. Mientras los dos punteros no se encuentren, sigue buscando pares.\n",
    "5. Si la suma de los valores de los dos punteros es igual a x, añade el par a la lista.\n",
    "6. Si la suma de los valores de los dos punteros es menor que x, mueve el puntero izquierdo hacia la derecha.\n",
    "7. Si la suma de los valores de los dos punteros es mayor que x, mueve el puntero derecho hacia la izquierda.\n",
    "8. Repite los pasos 4 a 7 hasta que los dos punteros se encuentren.\n",
    "9. Devuelve la lista de pares."
   ],
   "metadata": {
    "collapsed": false
   },
   "id": "7f5d5a2b07bba90"
  },
  {
   "cell_type": "code",
   "execution_count": null,
   "outputs": [],
   "source": [
    "def find_pairs_sum_x(L, x):\n",
    "  \"\"\"\n",
    "  Encuentra pares de una lista doblemente enlazada ordenada de números enteros positivos distintos cuya suma sea igual a un valor dado x.\n",
    "  Args:\n",
    "    L: La lista doblemente enlazada ordenada de números enteros positivos distintos.\n",
    "    x: El valor dado.\n",
    "  Returns:\n",
    "    Una lista de pares de números enteros cuya suma es igual a x.\n",
    "  \"\"\"\n",
    "  # Comprobar si la lista está vacía.\n",
    "  if L.is_empty():\n",
    "    return []\n",
    "  # Crear una lista para almacenar los pares.\n",
    "  pairs = []\n",
    "  # Crear dos punteros, uno que empiece como el primer nodo de la lista y el otro como el último.\n",
    "  ptr1 = L.head\n",
    "  ptr2 = L.tail\n",
    "  # Mientras los dos punteros no se encuentren, seguir buscando pares.\n",
    "  while ptr1 != ptr2:\n",
    "    # Si la suma de los valores de los dos punteros es igual a x, añadir el par a la lista.\n",
    "    if ptr1.value + ptr2.value == x:\n",
    "      pairs.append((ptr1.value, ptr2.value))\n",
    "    # Si la suma de los valores de los dos punteros es menor que x, mover el puntero izquierdo hacia la derecha.\n",
    "    if ptr1.value + ptr2.value < x:\n",
    "      ptr1 = ptr1.next\n",
    "    # Si la suma de los valores de los dos punteros es mayor que x, mover el puntero derecho hacia la izquierda.\n",
    "    if ptr1.value + ptr2.value > x:\n",
    "      ptr2 = ptr2.prev\n",
    "  # Devolver la lista de pares.\n",
    "  return pairs"
   ],
   "metadata": {
    "collapsed": false
   },
   "id": "31b53e13fa990b3"
  },
  {
   "cell_type": "markdown",
   "source": [
    "### Ejercicio 9\n",
    "El algoritmo propuesto tiene como objetivo encontrar todos los pares de números en una lista que sumen un valor específico x. Para lograr esto, el algoritmo utiliza dos punteros, uno que apunta al inicio de la lista y otro que apunta al final.\n",
    "\n",
    "A continuación, se detalla el algoritmo paso a paso:\n",
    "\n",
    "1. Se crea una lista vacía llamada \"reversed_nodes\" para almacenar los pares de números que suman x.\n",
    "\n",
    "2. Se crean dos punteros, \"ptr1\" y \"ptr2\", que apuntan al inicio y al final de la lista, respectivamente.\n",
    "\n",
    "3. Se ejecuta un bucle while que continúa hasta que los dos punteros se encuentren. Dentro del bucle, se realizan las siguientes acciones:\n",
    "\n",
    "   a. Si la suma de los valores de los dos punteros es igual a x, se agrega el par de números a la lista \"reversed_nodes\".\n",
    "\n",
    "   b. Si la suma de los valores de los dos punteros es menor a x, se mueve el puntero \"ptr1\" hacia la derecha.\n",
    "\n",
    "   c. Si la suma de los valores de los dos punteros es mayor a x, se mueve el puntero \"ptr2\" hacia la izquierda.\n",
    "\n",
    "4. Una vez que el bucle while ha terminado, se devuelve la lista \"reversed_nodes\" que contiene todos los pares de números que suman x.\n",
    "\n",
    "Este algoritmo tiene una complejidad temporal de O(n^2), donde n es el número de elementos en la lista. Esto se debe a que, en el peor de los casos, se deben comparar todos los elementos de la lista con todos los demás elementos.\n",
    "\n",
    "Es importante mencionar que este algoritmo solo funciona con listas que contienen números enteros. Si la lista contiene números decimales o si los valores de x no son números enteros, es posible que el algoritmo no funcione correctamente."
   ],
   "metadata": {
    "collapsed": false
   },
   "id": "b669975be8f11a54"
  },
  {
   "cell_type": "code",
   "execution_count": null,
   "outputs": [],
   "source": [
    "def reverse_k_groups(head, k):\n",
    "  \"\"\"\n",
    "  Reverses the nodes of a doubly linked list in groups of k.\n",
    "  Args:\n",
    "    head: The head of the doubly linked list.\n",
    "    k: The number of nodes in each group.\n",
    "  Returns:\n",
    "    The head of the reversed doubly linked list.\n",
    "  \"\"\"\n",
    "  # Check if the list is empty or if k is not positive.\n",
    "  if not head or k <= 0:\n",
    "    return head\n",
    "  # Create a list to store the reversed nodes.\n",
    "  reversed_nodes = []\n",
    "  # Create two pointers, one that starts at the head of the list and the other that starts at the end.\n",
    "  ptr1 = head\n",
    "  ptr2 = head.prev\n",
    "  # While the two pointers have not met, keep reversing the nodes.\n",
    "  while ptr1 != ptr2:\n",
    "    # If the sum of the values of the two pointers is equal to x, add the pair to the list.\n",
    "    if ptr1.value + ptr2.value == x:\n",
    "      pairs.append((ptr1.value, ptr2.value))\n",
    "    # If the sum of the values of the two pointers is less than x, move the left pointer to the right.\n",
    "    if ptr1.value + ptr2.value < x:\n",
    "      ptr1 = ptr1.next\n",
    "    # If the sum of the values of the two pointers is greater than x, move the right pointer to the left.\n",
    "    if ptr1.value + ptr2.value > x:\n",
    "      ptr2 = ptr2.prev\n",
    "  # Return the list of pairs.\n",
    "  return pairs"
   ],
   "metadata": {
    "collapsed": false
   },
   "id": "720c398e593a1ffd"
  },
  {
   "cell_type": "markdown",
   "source": [
    "### Ejercicio 10"
   ],
   "metadata": {
    "collapsed": false
   },
   "id": "c9ff7173de5db647"
  },
  {
   "cell_type": "code",
   "execution_count": null,
   "outputs": [],
   "source": [
    "class BrowserHistory:\n",
    "    def __init__(self, homepage):\n",
    "        self.history = [homepage]\n",
    "        self.current_index = 0\n",
    "    def visit(self, url):\n",
    "        self.history = self.history[:self.current_index + 1]\n",
    "        self.history.append(url)\n",
    "        self.current_index += 1\n",
    "    def back(self, steps):\n",
    "        self.current_index = max(0, self.current_index - steps)\n",
    "        return self.history[self.current_index]\n",
    "    def forward(self, steps):\n",
    "        self.current_index = min(len(self.history) - 1, self.current_index + steps)\n",
    "        return self.history[self.current_index]"
   ],
   "metadata": {
    "collapsed": false
   },
   "id": "21804964b7d3bde5"
  }
 ],
 "metadata": {
  "kernelspec": {
   "display_name": "Python 3",
   "language": "python",
   "name": "python3"
  },
  "language_info": {
   "codemirror_mode": {
    "name": "ipython",
    "version": 2
   },
   "file_extension": ".py",
   "mimetype": "text/x-python",
   "name": "python",
   "nbconvert_exporter": "python",
   "pygments_lexer": "ipython2",
   "version": "2.7.6"
  }
 },
 "nbformat": 4,
 "nbformat_minor": 5
}
