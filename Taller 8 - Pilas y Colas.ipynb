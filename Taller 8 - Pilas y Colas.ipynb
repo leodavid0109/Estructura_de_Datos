{
 "cells": [
  {
   "cell_type": "markdown",
   "source": [
    "# TALLER 8: PILAS Y COLAS"
   ],
   "metadata": {
    "collapsed": false
   },
   "id": "55e62210d45e0737"
  },
  {
   "cell_type": "markdown",
   "source": [
    "### Ejercicio 1\n",
    "El algoritmo funciona de la siguiente manera:\n",
    "1. Inicializa el número de estudiantes que no pueden comer en 0.\n",
    "2. Itera sobre los estudiantes.\n",
    "3. Si el estudiante prefiere la lasaña de la parte superior de la pila, la toma y abandona la cola.\n",
    "4. Si no, el estudiante se va al final de la cola.\n",
    "5. Devuelve el número de estudiantes que no pueden comer."
   ],
   "metadata": {
    "collapsed": false
   },
   "id": "81339caeb3cfa40f"
  },
  {
   "cell_type": "code",
   "execution_count": null,
   "id": "initial_id",
   "metadata": {
    "collapsed": true
   },
   "outputs": [],
   "source": [
    "def num_estudiantes_que_no_pueden_comer(lasaña, estudiantes):\n",
    "  \"\"\"\n",
    "  Devuelve el número de estudiantes que no pueden comer.\n",
    "  Args:\n",
    "    lasaña: Una lista de enteros que representa el tipo de lasaña en la pila.\n",
    "    estudiantes: Una lista de enteros que representa la preferencia de cada estudiante.\n",
    "  Returns:\n",
    "    El número de estudiantes que no pueden comer.\n",
    "  \"\"\"\n",
    "  # Inicializa el número de estudiantes que no pueden comer.\n",
    "  num_estudiantes_que_no_pueden_comer = 0\n",
    "  # Itera sobre los estudiantes.\n",
    "  for estudiante in estudiantes:\n",
    "    # Si el estudiante prefiere la lasaña de la parte superior de la pila, la toma y abandona la cola.\n",
    "    if estudiante == lasaña[0]:\n",
    "      lasaña.pop(0)\n",
    "    # Si no, el estudiante se va al final de la cola.\n",
    "    else:\n",
    "      estudiantes.append(estudiante)\n",
    "  # Devuelve el número de estudiantes que no pueden comer.\n",
    "  return num_estudiantes_que_no_pueden_comer"
   ]
  },
  {
   "cell_type": "markdown",
   "source": [
    "### Ejercicio 2\n",
    "El algoritmo funciona de la siguiente manera:\n",
    "1. Crea una pila.\n",
    "2. Itera sobre la cadena.\n",
    "3. Añade el caracter a la pila.\n",
    "4. Crea una cadena vacía.\n",
    "5. Mientras la pila no esté vacía, quita el último caracter y añádelo a la cadena invertida.\n",
    "6. Devuelve True si la cadena original y la cadena invertida son iguales, False en caso contrario."
   ],
   "metadata": {
    "collapsed": false
   },
   "id": "9dce6b4bedf93410"
  },
  {
   "cell_type": "code",
   "execution_count": null,
   "outputs": [],
   "source": [
    "def es_palindromo(cadena):\n",
    "  \"\"\"\n",
    "  Devuelve True si la cadena es un palíndromo, False en caso contrario.\n",
    "  Args:\n",
    "    cadena: La cadena a comprobar.\n",
    "  Returns:\n",
    "    True si la cadena es un palíndromo, False en caso contrario.\n",
    "  \"\"\"\n",
    "  # Crea una pila.\n",
    "  pila = []\n",
    "  # Itera sobre la cadena.\n",
    "  for caracter in cadena:\n",
    "    # Añade el caracter a la pila.\n",
    "    pila.append(caracter)\n",
    "  # Crea una cadena vacía.\n",
    "  cadena_invertida = \"\"\n",
    "  # Mientras la pila no esté vacía, quita el último caracter y añádelo a la cadena invertida.\n",
    "  while pila:\n",
    "    caracter = pila.pop()\n",
    "    cadena_invertida += caracter\n",
    "  # Devuelve True si la cadena original y la cadena invertida son iguales, False en caso contrario.\n",
    "  return cadena == cadena_invertida"
   ],
   "metadata": {
    "collapsed": false
   },
   "id": "2f175e8c4f009bcc"
  },
  {
   "cell_type": "markdown",
   "source": [
    "### Ejercicio 3\n",
    " El algoritmo funciona de la siguiente manera:\n",
    "1. Crea una pila.\n",
    "2. Itera sobre la cadena.\n",
    "3. Si el caracter es un paréntesis izquierdo, añádelo a la pila.\n",
    "4. Si el caracter es un paréntesis derecho, quita el último elemento de la pila.\n",
    "5. Devuelve True si la pila está vacía, False en caso contrario."
   ],
   "metadata": {
    "collapsed": false
   },
   "id": "5b33f1a4161715e2"
  },
  {
   "cell_type": "code",
   "execution_count": null,
   "outputs": [],
   "source": [
    "def es_bien_formada(cadena):\n",
    "  \"\"\"\n",
    "  Devuelve True si la cadena está bien formada, False en caso contrario.\n",
    "  Args:\n",
    "    cadena: La cadena a comprobar.\n",
    "  Returns:\n",
    "    True si la cadena está bien formada, False en caso contrario.\n",
    "  \"\"\"\n",
    "  # Crea una pila.\n",
    "  pila = []\n",
    "  # Itera sobre la cadena.\n",
    "  for caracter in cadena:\n",
    "    # Si el caracter es un paréntesis izquierdo, añádelo a la pila.\n",
    "    if caracter == \"(\":\n",
    "      pila.append(caracter)\n",
    "    # Si el caracter es un paréntesis derecho, quita el último elemento de la pila.\n",
    "    elif caracter == \")\":\n",
    "      if not pila:\n",
    "        return False\n",
    "      pila.pop()\n",
    "  # Devuelve True si la pila está vacía, False en caso contrario.\n",
    "  return not pila"
   ],
   "metadata": {
    "collapsed": false
   },
   "id": "c74ff273022d4237"
  },
  {
   "cell_type": "markdown",
   "source": [
    "### Ejercicio 4\n",
    "El algoritmo funciona de la siguiente manera:\n",
    "1. Crea una cola.\n",
    "2. Mientras la pila no esté vacía, quita el último elemento de la pila y añádelo a la cola.\n",
    "3. Mientras la cola no esté vacía, quita el último elemento de la cola y añádelo a la pila.\n",
    "4. Devuelve la pila invertida."
   ],
   "metadata": {
    "collapsed": false
   },
   "id": "8bcd43098ba0b290"
  },
  {
   "cell_type": "code",
   "execution_count": null,
   "outputs": [],
   "source": [
    "def invertir_pila(pila):\n",
    "  \"\"\"\n",
    "  Invierte la pila dada.\n",
    "  Args:\n",
    "    pila: La pila a invertir.\n",
    "  Returns:\n",
    "    La pila invertida.\n",
    "  \"\"\"\n",
    "  # Crea una cola.\n",
    "  cola = []\n",
    "  # Mientras la pila no esté vacía, quita el último elemento de la pila y añádelo a la cola.\n",
    "  while pila:\n",
    "    cola.append(pila.pop())\n",
    "  # Mientras la cola no esté vacía, quita el último elemento de la cola y añádelo a la pila.\n",
    "  while cola:\n",
    "    pila.append(cola.pop())\n",
    "  # Devuelve la pila invertida.\n",
    "  return pila"
   ],
   "metadata": {
    "collapsed": false
   },
   "id": "a38de372e61ed5b9"
  },
  {
   "cell_type": "markdown",
   "source": [
    "### Ejercicio 5\n",
    "Las listas enlazadas simples son una estructura de datos que solo pueden ser recorridas en una dirección, mientras que las listas doblemente enlazadas pueden ser recorridas en ambas direcciones. Esto hace que las listas doblemente enlazadas sean más adecuadas para implementar colas, ya que las colas requieren poder acceder al primer y último elemento de la cola de manera eficiente.\n",
    "Las listas enlazadas simples se pueden usar para implementar pilas, ya que las pilas solo requieren poder acceder al último elemento de la pila de manera eficiente.\n",
    "En otras palabras, las listas doblemente enlazadas son más adecuadas para implementar colas porque permiten un acceso eficiente al primer y último elemento de la cola, mientras que las listas enlazadas simples son más adecuadas para implementar pilas porque permiten un acceso eficiente al último elemento de la pila."
   ],
   "metadata": {
    "collapsed": false
   },
   "id": "78a61fd05c752cff"
  },
  {
   "cell_type": "markdown",
   "source": [
    "### Ejercicio 6\n",
    "1. Inicializar una pila vacía.\n",
    "\n",
    "2. Dividir la cadena de entrada en palabras utilizando el método split().\n",
    "\n",
    "3. Iterar sobre cada palabra en la lista de palabras.\n",
    "\n",
    "   3.1. Si la pila está vacía, simplemente agregar la palabra a la pila.\n",
    "\n",
    "   3.2. Si la pila no está vacía, agregar la palabra a la pila y luego agregar el elemento en la parte superior de la pila a la lista de palabras.\n",
    "\n",
    "4. Continuar este proceso hasta que se hayan procesado todas las palabras en la lista de palabras.\n",
    "\n",
    "5. Finalmente, convertir la pila en una cadena y devolverla.\n",
    "\n",
    "Este algoritmo utiliza una pila para almacenar las palabras en orden inverso. La pila se vacía y se llena repetidamente a medida que se procesan las palabras en la lista de palabras. Al final, la pila contiene las palabras en orden inverso y se convierte en una cadena para devolver el resultado.\n",
    "\n",
    "El tiempo de ejecución de este algoritmo es O(n), donde n es el número de palabras en la cadena de entrada. Esto se debe a que cada palabra se procesa una vez.\n",
    "\n",
    "El espacio de almacenamiento de este algoritmo es O(n), donde n es el número de palabras en la cadena de entrada. Esto se debe a que las palabras se almacenan en la pila y en la lista de palabras."
   ],
   "metadata": {
    "collapsed": false
   },
   "id": "35f7011095795f35"
  },
  {
   "cell_type": "code",
   "execution_count": null,
   "outputs": [],
   "source": [
    "#Usando pilas\n",
    "def reverse_words(sentence):\n",
    "  stack = []\n",
    "  words = sentence.split()\n",
    "  for word in words:\n",
    "    stack.append(word)\n",
    "  reversed_words = []\n",
    "  while stack:\n",
    "    reversed_words.append(stack.pop())\n",
    "  return ' '.join(reversed_words)\n",
    "print(reverse_words('Hola Mundo!'))"
   ],
   "metadata": {
    "collapsed": false
   },
   "id": "844a95da499757f3"
  },
  {
   "cell_type": "code",
   "execution_count": null,
   "outputs": [],
   "source": [
    "#Usando colas\n",
    "def reverse_words(sentence):\n",
    "  queue = []\n",
    "  words = sentence.split()\n",
    "  for word in words:\n",
    "    queue.append(word)\n",
    "  reversed_words = []\n",
    "  while queue:\n",
    "    reversed_words.append(queue.popleft())\n",
    "  return ' '.join(reversed_words)\n",
    "print(reverse_words('Hola Mundo!'))"
   ],
   "metadata": {
    "collapsed": false
   },
   "id": "dd1627e70a3fd27"
  },
  {
   "cell_type": "code",
   "execution_count": null,
   "outputs": [],
   "source": [
    "def reverse_words(sentence): \n",
    "    words = sentence.split()\n",
    "    reversed_words = [word[::-1] for word in words]\n",
    "    return ' '.join(reversed_words)\n",
    "print(reverse_words('Hola Mundo!'))"
   ],
   "metadata": {
    "collapsed": false
   },
   "id": "699297af87c6c3a6"
  },
  {
   "cell_type": "markdown",
   "source": [
    "### Ejercicio 7\n",
    " La Notación Polaca Inversa (NPI), también conocida como notación postfija, es una forma de notación matemática en la que los operadores se escriben después de sus operandos. \n",
    "La NPI tiene varias ventajas sobre la notación infija, que es la forma más común de notación matemática. En primer lugar, la NPI es más fácil de analizar, ya que no requiere el uso de paréntesis para indicar el orden de las operaciones. En segundo lugar, la NPI es más eficiente de evaluar, ya que no requiere el uso de una pila para almacenar los operandos intermedios.\n",
    "Para evaluar una expresión en NPI, podemos utilizar el siguiente algoritmo:\n",
    "1. Crear una pila vacía.\n",
    "2. Para cada token en la expresión:\n",
    "    * Si el token es un operando, empujarlo a la pila.\n",
    "    * Si el token es un operador, desapilar los dos últimos operandos de la pila y aplicar el operador a ellos. Empujar el resultado a la pila.\n",
    "3. El último elemento de la pila es el resultado de la expresión.\n",
    "Por ejemplo, para evaluar la expresión \"100 200 + 2 / 5 * 7 +\", seguiríamos los siguientes pasos:\n",
    "1. Crear una pila vacía.\n",
    "2. Para cada token en la expresión:\n",
    "    * \"100\": empujar 100 a la pila.\n",
    "    * \"200\": empujar 200 a la pila.\n",
    "    * \"+\": desapilar 200 y 100 de la pila, aplicar el operador \"+\" a ellos, y empujar el resultado 300 a la pila.\n",
    "    * \"2\": empujar 2 a la pila.\n",
    "    * \"/\": desapilar 2 y 300 de la pila, aplicar el operador \"/\" a ellos, y empujar el resultado 150 a la pila.\n",
    "    * \"5\": empujar 5 a la pila.\n",
    "    * \"*\": desapilar 5 y 150 de la pila, aplicar el operador \"*\" a ellos, y empujar el resultado 750 a la pila.\n",
    "    * \"7\": empujar 7 a la pila.\n",
    "    * \"+\": desapilar 7 y 750 de la pila, aplicar el operador \"+\" a ellos, y empujar el resultado 7"
   ],
   "metadata": {
    "collapsed": false
   },
   "id": "5bdd23711189d7d0"
  },
  {
   "cell_type": "code",
   "execution_count": null,
   "outputs": [],
   "source": [
    "def evaluate_rpn(expression):\n",
    "  stack = []\n",
    "  for token in expression.split():\n",
    "    if token.isdigit():\n",
    "      stack.append(int(token))\n",
    "    else:\n",
    "      operand2 = stack.pop()\n",
    "      operand1 = stack.pop()\n",
    "      result = 0\n",
    "      if token == \"+\":\n",
    "        result = operand1 + operand2\n",
    "      elif token == \"-\":\n",
    "        result = operand1 - operand2\n",
    "      elif token == \"*\":\n",
    "        result = operand1 * operand2\n",
    "      elif token == \"/\":\n",
    "        result = operand1 / operand2\n",
    "      stack.append(result)\n",
    "  return stack.pop()\n",
    "print(evaluate_rpn(\"100 200 + 2 / 5 * 7 +\"))"
   ],
   "metadata": {
    "collapsed": false
   },
   "id": "f5fae30c58c9834e"
  },
  {
   "cell_type": "markdown",
   "source": [
    "### Ejercicio 8\n",
    "En este enfoque, usamos dos estructuras de datos, la cola y la pila. La pila se utiliza para implementar la operación de inserción (enqueue) y eliminación (dequeue) en la cola.\n",
    "\n",
    "El truco clave es usar una pila auxiliar para deshacer la pila original durante la operación de dequeue. En lugar de eliminar simplemente el elemento en la parte superior de la pila original, movemos todos los elementos a la pila auxiliar y eliminamos el elemento de la parte superior de la pila original. Luego, movemos todos los elementos de vuelta a la pila original.\n",
    "\n",
    "De esta manera, la operación de dequeue se convierte en O(n), donde n es el número de elementos en la cola, ya que en el peor de los casos debemos mover todos los elementos a la pila auxiliar y de vuelta a la pila original. La operación de enqueue se mantiene como O(1), ya que simplemente insert"
   ],
   "metadata": {
    "collapsed": false
   },
   "id": "ebec5f9a23808212"
  },
  {
   "cell_type": "code",
   "execution_count": null,
   "outputs": [],
   "source": [
    "class Stack:\n",
    "    def __init__(self):\n",
    "        self.items = []\n",
    "\n",
    "    def isEmpty(self):\n",
    "        return not bool(self.items)\n",
    "\n",
    "    def push(self, data):\n",
    "        self.items.append(data)\n",
    "\n",
    "    def pop(self):\n",
    "        return self.items.pop()\n",
    "\n",
    "    def peek(self):\n",
    "        return self.items[-1]\n",
    "\n",
    "    def size(self):\n",
    "        return len(self.items)\n",
    "\n",
    "\n",
    "class Queue:\n",
    "    def __init__(self):\n",
    "        self.stack = Stack()\n",
    "\n",
    "    def isEmpty(self):\n",
    "        return self.stack.isEmpty()\n",
    "\n",
    "    def enqueue(self, item):\n",
    "        self.stack.push(item)\n",
    "\n",
    "    def dequeue(self):\n",
    "        tempStack = Stack()\n",
    "        while not self.stack.isEmpty():\n",
    "            tempStack.push(self.stack.pop())\n",
    "\n",
    "        popped = tempStack.pop()\n",
    "\n",
    "        while not tempStack.isEmpty():\n",
    "            self.stack.push(tempStack.pop())\n",
    "\n",
    "        return popped\n",
    "\n",
    "    def size(self):\n",
    "        return self.stack.size()"
   ],
   "metadata": {
    "collapsed": false
   },
   "id": "4f609ea61b863f48"
  },
  {
   "cell_type": "markdown",
   "source": [
    "### Ejercicio 9\n"
   ],
   "metadata": {
    "collapsed": false
   },
   "id": "e60c168399139b3d"
  },
  {
   "cell_type": "code",
   "execution_count": null,
   "outputs": [],
   "source": [
    "def zigzag_iterator(list1, list2):\n",
    "  \"\"\"\n",
    "  Zigzag iterator over two lists.\n",
    "  Args:\n",
    "    list1: The first list.\n",
    "    list2: The second list.\n",
    "  Yields:\n",
    "    The elements of the two lists in zigzag order.\n",
    "  \"\"\"\n",
    "  index1 = 0\n",
    "  index2 = 0\n",
    "  turn = True\n",
    "  while index1 < len(list1) or index2 < len(list2):\n",
    "    if turn:\n",
    "      if index1 < len(list1):\n",
    "        yield list1[index1]\n",
    "        index1 += 1\n",
    "      else:\n",
    "        yield list2[index2]\n",
    "        index2 += 1\n",
    "      turn = False\n",
    "    else:\n",
    "      if index2 < len(list2):\n",
    "        yield list2[index2]\n",
    "        index2 += 1\n",
    "      else:\n",
    "        yield list1[index1]\n",
    "        index1 += 1\n",
    "      turn = True"
   ],
   "metadata": {
    "collapsed": false
   },
   "id": "f9c6d04a5abc3693"
  },
  {
   "cell_type": "markdown",
   "source": [
    "### Ejercicio 10\n",
    "Este algoritmo funciona inicializando una lista vacía y un contador `k` en 0. El método `agregar` añade un número entero a la lista y aumenta el contador `k`. El método `getProducto` devuelve el producto de los últimos `k` números de la lista."
   ],
   "metadata": {
    "collapsed": false
   },
   "id": "58b086917c806fb0"
  },
  {
   "cell_type": "code",
   "execution_count": null,
   "outputs": [],
   "source": [
    "class ProductoDeNumeros:\n",
    "    def __init__(self):\n",
    "        self.lista = []\n",
    "        self.k = 0\n",
    "    def agregar(self, num):\n",
    "        self.lista.append(num)\n",
    "        self.k += 1\n",
    "    def getProducto(self, k):\n",
    "        producto = 1\n",
    "        for i in range(len(self.lista) - k, len(self.lista)):\n",
    "            producto *= self.lista[i]\n",
    "        return producto"
   ],
   "metadata": {
    "collapsed": false
   },
   "id": "8aeaacf5cc46f497"
  }
 ],
 "metadata": {
  "kernelspec": {
   "display_name": "Python 3",
   "language": "python",
   "name": "python3"
  },
  "language_info": {
   "codemirror_mode": {
    "name": "ipython",
    "version": 2
   },
   "file_extension": ".py",
   "mimetype": "text/x-python",
   "name": "python",
   "nbconvert_exporter": "python",
   "pygments_lexer": "ipython2",
   "version": "2.7.6"
  }
 },
 "nbformat": 4,
 "nbformat_minor": 5
}
