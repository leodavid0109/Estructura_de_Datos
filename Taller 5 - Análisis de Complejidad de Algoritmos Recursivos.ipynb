{
 "cells": [
  {
   "cell_type": "markdown",
   "source": [
    "# Taller 5 - Análisis de Complejidad de Algoritmos Recursivos\n",
    "\n",
    "## Problema 1\n",
    "\n",
    "Use el teorema maestro para encontrar las funciones asintóticas para las siguientes recurrencias.\n",
    "\n",
    "1. $T(n) = 2T(n/2) + n^3$\n",
    "2. $T(n) = T(9n/10) + 10$\n",
    "3. $T(n) = 16T(n/4) + n^2$\n",
    "4. $T(n) = 7T(n/3) + n^2$\n",
    "5. $T(n) = 7T(n/2) + n^2$\n",
    "6. $T(n) = 2T(n/4) + \\sqrt{n}$\n",
    "7. $T(n) = T(n - 1) + n$"
   ],
   "metadata": {
    "collapsed": false
   },
   "id": "1d622e59cb694790"
  },
  {
   "cell_type": "markdown",
   "source": [
    "### Solución\n",
    "\n",
    "1. $T(n) = \\Theta(n^3)$\n",
    "$a = 2, b = 2, f(n) = \\Theta(n^3), log_b(a) = 1$, Caso 3\n",
    "2. $T(n) = \\Theta(\\log n)$\n",
    "$a = 1, b = 10/9, f(n) = \\Theta(1), log_b(a) = 0$, Caso 2\n",
    "3. $T(n) = \\Theta(n^2 \\log n)$\n",
    "$a = 16, b = 4, f(n) = \\Theta(n^2), log_b(a) = 2$, Caso 2\n",
    "4. $T(n) = \\Theta(n^2)$\n",
    "$a = 7, b = 3, f(n) = \\Theta(n^2), log_b(a) = 1.77$, Caso 3\n",
    "5. $T(n) = \\Theta(n^{2.8})$\n",
    "$a = 7, b = 2, f(n) = \\Theta(n^2), log_b(a) = 2.8$, Caso 1\n",
    "6. $T(n) = \\Theta(n^{0.5} \\log n)$\n",
    "$a = 2, b = 4, f(n) = \\Theta(\\sqrt{n}), log_b(a) = 0.5$, Caso 2\n",
    "7. $T(n) = \\Theta(n)$\n",
    "$a = 1, b = 1, f(n) = \\Theta(n), log_b(a) = 0$, Caso 2"
   ],
   "metadata": {
    "collapsed": false
   },
   "id": "ed2806a29bfcbf10"
  },
  {
   "cell_type": "markdown",
   "source": [
    "## Problema 2\n",
    "\n",
    "Dado un arreglo $A$ y un valor $x$, realice una búsqueda lineal en el arreglo, es decir busque el valor $x$ de manera secuencial en el arreglo $A$. Presente el pseudocódigo que realiza esta operación y determine el costo computación en el mejor y peor de los casos."
   ],
   "metadata": {
    "collapsed": false
   },
   "id": "76c6d2745c5fb8a0"
  },
  {
   "cell_type": "code",
   "execution_count": null,
   "id": "initial_id",
   "metadata": {
    "collapsed": true
   },
   "outputs": [],
   "source": [
    "def busqueda_lineal(A, x):\n",
    "    for i in range(len(A)):\n",
    "        if A[i] == x:\n",
    "            return i\n",
    "    return -1"
   ]
  },
  {
   "cell_type": "markdown",
   "source": [
    "Mejor caso: $\\Omega(1)$\n",
    "Peor caso: $O(n)$"
   ],
   "metadata": {
    "collapsed": false
   },
   "id": "b51a66aede9eecf6"
  },
  {
   "cell_type": "markdown",
   "source": [
    "## Problema 3\n",
    "\n",
    "Asuma que el arreglo $A$ está ordenado de menor a mayor, y se desea realizar la búsqueda de un valor $x$. La búsqueda binaria divide el arreglo en $2$ de forma iterativa, y buscar el valor de $x$ solo en la mitad del arreglo donde se puede encontrar (dado que este se encuentra organizado). Escriba el pseudocódigo empleando un método recursivo y determine el tiempo de ejecución."
   ],
   "metadata": {
    "collapsed": false
   },
   "id": "b5cd4f54e49d710c"
  },
  {
   "cell_type": "code",
   "execution_count": null,
   "outputs": [],
   "source": [
    "def busqueda_binaria(A, x, inicio, fin):\n",
    "    if inicio > fin:\n",
    "        return -1\n",
    "    mitad = (inicio + fin) // 2\n",
    "    if A[mitad] == x:\n",
    "        return mitad\n",
    "    elif A[mitad] > x:\n",
    "        return busqueda_binaria(A, x, inicio, mitad - 1)\n",
    "    else:\n",
    "        return busqueda_binaria(A, x, mitad + 1, fin)"
   ],
   "metadata": {
    "collapsed": false
   },
   "id": "118b09e1865d2381"
  },
  {
   "cell_type": "markdown",
   "source": [
    "Mejo caso: $\\Omega(1)$\n",
    "Peor caso: $T(n/2) + O(1)$\n",
    "Por Teorema Maestro, $T(n) = \\Theta(\\log n)$\n",
    "$a = 1, b = 2, f(n) = \\Theta(1), log_b(a) = 0$, Caso 2"
   ],
   "metadata": {
    "collapsed": false
   },
   "id": "6c95cb817b348d5b"
  }
 ],
 "metadata": {
  "kernelspec": {
   "display_name": "Python 3",
   "language": "python",
   "name": "python3"
  },
  "language_info": {
   "codemirror_mode": {
    "name": "ipython",
    "version": 2
   },
   "file_extension": ".py",
   "mimetype": "text/x-python",
   "name": "python",
   "nbconvert_exporter": "python",
   "pygments_lexer": "ipython2",
   "version": "2.7.6"
  }
 },
 "nbformat": 4,
 "nbformat_minor": 5
}
