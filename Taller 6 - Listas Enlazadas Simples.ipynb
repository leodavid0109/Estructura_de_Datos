{
 "cells": [
  {
   "cell_type": "markdown",
   "source": [
    "# TALLER 6: LISTAS ENLAZADAS SIMPLES\n",
    "\n",
    "Este taller está diseñado para afianzar tu comprensión sobre las listas enlazadas simples, el manejo de apuntadores entre nodos de forma unidireccional, fortalecer tu habilidad para resolver algoritmos sobre estructuras de datos y usar los beneficios que traen listas enlazadas para solucionar problemas algorítmicos de forma eficiente. Varios de estos ejercicios están inspirados en problemas de entrevistas técnicas y competencias de programación.\n",
    "\n",
    "## PROBLEMA 1:\n",
    "Dada una lista enlazada simple L de la cual no conocemos su longitud, cree un algoritmo que divida \"por la mitad\" a L y retorne dos listas de longitudes (casi) iguales usando solamente un ciclo. Esto último quiere decir que no se vale recorrer toda la lista para calcular su longitud y después volver a iterarla la mitad de su longitud. Asuma que la lista enlazada no tiene atributo size. Debe hallar el punto medio de la lista recorriéndola una única vez."
   ],
   "metadata": {
    "collapsed": false
   },
   "id": "47aaecb5ae431246"
  },
  {
   "cell_type": "code",
   "execution_count": 39,
   "outputs": [],
   "source": [
    "def dividir_mitad(L):\n",
    "    nodo_lento = L.First()\n",
    "    nodo_rapido = L.First()\n",
    "    \n",
    "    L1 = List()\n",
    "    L2 = List()\n",
    "    \n",
    "    L1.addLast(nodo_lento)\n",
    "    while nodo_rapido is not None and nodo_rapido != L.Last():\n",
    "        nodo_lento = nodo_lento.getNext()\n",
    "        L1.addLast(nodo_lento)\n",
    "        nodo_rapido = nodo_rapido.getNext().getNext()\n",
    "        \n",
    "    nodo_aux = nodo_lento.getNext()\n",
    "    nodo_lento.setNext(None)\n",
    "    while nodo_aux.getNext() is not None:\n",
    "        L2.addLast(nodo_aux)\n",
    "        nodo_aux = nodo_aux.getNext()\n",
    "    return L1, L2"
   ],
   "metadata": {
    "collapsed": false,
    "ExecuteTime": {
     "end_time": "2023-10-16T22:29:11.583251400Z",
     "start_time": "2023-10-16T22:29:11.570490400Z"
    }
   },
   "id": "e129acc36f4e3a80"
  },
  {
   "cell_type": "code",
   "execution_count": 40,
   "outputs": [
    {
     "name": "stdout",
     "output_type": "stream",
     "text": [
      "22 --> 2 --> 77 --> 6 --> 43 --> 76 --> 89 --> 3\n",
      "22 --> 2 --> 77 --> 6 --> 43\n",
      "76 --> 89\n"
     ]
    }
   ],
   "source": [
    "from Implementación.List import List\n",
    "from Implementación.Node import Node\n",
    "#CASO PRUEBA:\n",
    "L = List()\n",
    "L.addLast(Node(22))\n",
    "L.addLast(Node(2))\n",
    "L.addLast(Node(77))\n",
    "L.addLast(Node(6))\n",
    "L.addLast(Node(43))\n",
    "L.addLast(Node(76))\n",
    "L.addLast(Node(89))\n",
    "L.addLast(Node(3))\n",
    "\n",
    "print(L)\n",
    "L1, L2 = dividir_mitad(L)\n",
    "print(L1)\n",
    "print(L2)"
   ],
   "metadata": {
    "collapsed": false,
    "ExecuteTime": {
     "end_time": "2023-10-16T22:29:11.962053600Z",
     "start_time": "2023-10-16T22:29:11.950823600Z"
    }
   },
   "id": "96de14a9ecb462c4"
  },
  {
   "cell_type": "markdown",
   "source": [
    "## PROBLEMA 2:\n",
    "Dadas dos listas simples enlazadas ordenadas, cree un algoritmo recursivo que las ‘fusione’ (merge) de forma que la lista resultante contenga todos los elementos de ambas listas y también esté ordenada. Las listas pueden tener longitudes diferentes. Su algoritmo debe correr en O(n+m)."
   ],
   "metadata": {
    "collapsed": false
   },
   "id": "e9bcd4166213546e"
  },
  {
   "cell_type": "code",
   "execution_count": 15,
   "outputs": [],
   "source": [
    "def mergeList(L1, L2):\n",
    "    mergeResult = List()\n",
    "    while L1.First() is not None and L2.First() is not None:\n",
    "        if int(str(L1.First())) < int(str((L2.First()))):\n",
    "            mergeResult.addLast(L1.First())\n",
    "            L1.removeFirst()\n",
    "        else:\n",
    "            mergeResult.addLast(L2.First())\n",
    "            L2.removeFirst()\n",
    "    \n",
    "    if L1.size() != 0:\n",
    "        mergeResult.Last().setNext(L1.First())\n",
    "    else:\n",
    "        mergeResult.Last().setNext(L2.First())\n",
    "        \n",
    "    return mergeResult"
   ],
   "metadata": {
    "collapsed": false,
    "ExecuteTime": {
     "end_time": "2023-10-16T22:13:26.226969400Z",
     "start_time": "2023-10-16T22:13:26.210104800Z"
    }
   },
   "id": "7efe04ccb4dbfa72"
  },
  {
   "cell_type": "code",
   "execution_count": 16,
   "outputs": [
    {
     "name": "stdout",
     "output_type": "stream",
     "text": [
      "2 --> 5 --> 17 --> 22 --> 43 --> 50 --> 75 --> 76 --> 77 --> 79\n"
     ]
    }
   ],
   "source": [
    "#CASO PRUEBA:\n",
    "L1 = List()\n",
    "L1.addLast(Node(2))\n",
    "L1.addLast(Node(22))\n",
    "L1.addLast(Node(43))\n",
    "L1.addLast(Node(75))\n",
    "L1.addLast(Node(76))\n",
    "L1.addLast(Node(89))\n",
    "\n",
    "L2 = List()\n",
    "L2.addLast(Node(5))\n",
    "L2.addLast(Node(17))\n",
    "L2.addLast(Node(50))\n",
    "L2.addLast(Node(77))\n",
    "L2.addLast(Node(79))\n",
    "\n",
    "print(mergeList(L1, L2))"
   ],
   "metadata": {
    "collapsed": false,
    "ExecuteTime": {
     "end_time": "2023-10-16T22:13:26.753528800Z",
     "start_time": "2023-10-16T22:13:26.739096700Z"
    }
   },
   "id": "97e32f581f7b5086"
  },
  {
   "cell_type": "code",
   "execution_count": null,
   "outputs": [],
   "source": [
    "# Ejercicio 3\n",
    "def mergeSort(L):\n",
    "    if L.size() > 1:\n",
    "        L1, L2 = dividir_mitad(L)\n",
    "        L1 = mergeSort(L1)\n",
    "        L2 = mergeSort(L2)\n",
    "        Lf = mergeList(L1, L2)\n",
    "        return Lf\n",
    "    else:\n",
    "        return L"
   ],
   "metadata": {
    "collapsed": false
   },
   "id": "934862bf456649c2"
  },
  {
   "cell_type": "markdown",
   "source": [
    "### Ejercicio 3\n"
   ],
   "metadata": {
    "collapsed": false
   },
   "id": "765d020984e3c55e"
  },
  {
   "cell_type": "code",
   "execution_count": null,
   "outputs": [],
   "source": [
    "def merge_sort(lista_enlazada):\n",
    "  \"\"\"Ordena una lista enlazada usando el algoritmo Merge Sort recursivo.\n",
    "  Args:\n",
    "    lista_enlazada: La lista enlazada a ordenar.\n",
    "  Returns:\n",
    "    La cabeza de la lista enlazada ordenada.\n",
    "  \"\"\"\n",
    "  if lista_enlazada is None or lista_enlazada.siguiente is None:\n",
    "    return lista_enlazada\n",
    "  # Divide la lista enlazada en dos mitades.\n",
    "  mitad1 = lista_enlazada\n",
    "  mitad2 = dividir_lista_enlazada(lista_enlazada)\n",
    "  # Ordena las dos mitades recursivamente.\n",
    "  mitad1 = merge_sort(mitad1)\n",
    "  mitad2 = merge_sort(mitad2)\n",
    "  # Fusiona las dos mitades ordenadas.\n",
    "  return merge(mitad1, mitad2)\n",
    "def merge(mitad1, mitad2):\n",
    "  \"\"\"Fusiona dos listas enlazadas ordenadas en una sola lista enlazada ordenada.\n",
    "  Args:\n",
    "    mitad1: La primera lista enlazada ordenada.\n",
    "    mitad2: La segunda lista enlazada ordenada.\n",
    "  Returns:\n",
    "    La cabeza de la lista enlazada ordenada fusionada.\n",
    "  \"\"\"\n",
    "  if mitad1 is None:\n",
    "    return mitad2\n",
    "  if mitad2 is None:\n",
    "    return mitad1\n",
    "  if mitad1.valor < mitad2.valor:\n",
    "    cabeza = mitad1\n",
    "    mitad1 = mitad1.siguiente\n",
    "  else:\n",
    "    cabeza = mitad2\n",
    "    mitad2 = mitad2.siguiente\n",
    "  actual = cabeza\n",
    "  while mitad1 is not None and mitad2 is not None:\n",
    "    if mitad1.valor < mitad2.valor:\n",
    "      actual.siguiente = mitad1\n",
    "      mitad1 = mitad1.siguiente\n",
    "    else:\n",
    "      actual.siguiente = mitad2\n",
    "      mitad2 = mitad2.siguiente\n",
    "    actual = actual.siguiente\n",
    "  if mitad1 is not None:\n",
    "    actual.siguiente = mitad1\n",
    "  if mitad2 is not None:\n",
    "    actual.siguiente = mitad2\n",
    "  return cabeza\n",
    "def dividir_lista_enlazada(lista_enlazada):\n",
    "  \"\"\"Divide una lista enlazada en dos mitades.\n",
    "  Args:\n",
    "    lista_enlazada: La lista enlazada a dividir.\n",
    "  Returns:\n",
    "    Una tupla con las dos mitades de la lista enlazada.\n",
    "  \"\"\"\n",
    "  mitad1 = lista_enlazada\n",
    "  mitad2 = None\n",
    "  while mitad1 is not None:\n",
    "    mitad2 = mitad1.siguiente\n",
    "    mitad1 = mitad1.siguiente.siguiente\n",
    "  return mitad1, mitad2"
   ],
   "metadata": {
    "collapsed": false
   },
   "id": "a6870ea604572fb"
  },
  {
   "cell_type": "markdown",
   "source": [
    "### Ejercicio 4\n",
    "Dado que las listas están ordenadas, podemos usar un algoritmo de intersección de dos conjuntos ordenados. El algoritmo funciona de la siguiente manera:\n",
    "1. Inicializar dos punteros, uno para cada lista.\n",
    "2. Mientras ambos punteros no sean nulos, comparar los valores de los nodos a los que apuntan.\n",
    "3. Si los valores son iguales, añadir el valor a la lista de intersección y avanzar ambos punteros.\n",
    "4. Si los valores no son iguales, avanzar el puntero de la lista con el valor menor.\n",
    "5. Repetir los pasos 2-4 hasta que uno de los punteros sea nulo.\n",
    "El algoritmo tiene una complejidad temporal de O(n log(n)), donde n es el número total de nodos en las dos listas."
   ],
   "metadata": {
    "collapsed": false
   },
   "id": "360b41e04b4b6666"
  },
  {
   "cell_type": "code",
   "execution_count": null,
   "outputs": [],
   "source": [
    "# Ejercicio 4\n",
    "def intersection(list1, list2):\n",
    "  \"\"\"\n",
    "  Devuelve una lista con los elementos pertenecientes a la intersección de dos listas ordenadas.\n",
    "  Args:\n",
    "    list1 (list): La primera lista ordenada.\n",
    "    list2 (list): La segunda lista ordenada.\n",
    "  Returns:\n",
    "    list: Una lista con los elementos pertenecientes a la intersección de las dos listas.\n",
    "  \"\"\"\n",
    "  # Inicializar dos punteros, uno para cada lista.\n",
    "  i = 0\n",
    "  j = 0\n",
    "  # Mientras ambos punteros no sean nulos, comparar los valores de los nodos a los que apuntan.\n",
    "  while i < len(list1) and j < len(list2):\n",
    "    if list1[i] == list2[j]:\n",
    "      # Si los valores son iguales, añadir el valor a la lista de intersección y avanzar ambos punteros.\n",
    "      intersection.append(list1[i])\n",
    "      i += 1\n",
    "      j += 1\n",
    "    elif list1[i] < list2[j]:\n",
    "      # Si los valores no son iguales, avanzar el puntero de la lista con el valor menor.\n",
    "      i += 1\n",
    "    else:\n",
    "      j += 1\n",
    "  # Devolver la lista de intersección.\n",
    "  return intersection"
   ],
   "metadata": {
    "collapsed": false
   },
   "id": "2030daa4dff08d7e"
  },
  {
   "cell_type": "markdown",
   "source": [
    "### Ejercicio 5\n",
    "Un palíndromo es una secuencia de caracteres que se lee igual de izquierda a derecha que de derecha a izquierda. Por ejemplo, \"ana\" es un palíndromo, mientras que \"casa\" no lo es.\n",
    "Para determinar si una lista simplemente enlazada es un palíndromo, podemos utilizar el siguiente algoritmo:\n",
    "1. Crear una pila vacía.\n",
    "2. Recorrer la lista de izquierda a derecha, apilando cada elemento en la pila.\n",
    "3. Recorrer la lista de derecha a izquierda, comparando cada elemento con el elemento superior de la pila.\n",
    "4. Si todos los elementos coinciden, la lista es un palíndromo. De lo contrario, no lo es.\n",
    "El algoritmo tiene una complejidad temporal de O(n), donde n es el número de elementos de la lista."
   ],
   "metadata": {
    "collapsed": false
   },
   "id": "5cc09d8dde44f6d7"
  },
  {
   "cell_type": "code",
   "execution_count": null,
   "outputs": [],
   "source": [
    "def is_palindrome(head):\n",
    "  \"\"\"\n",
    "  Determina si una lista simplemente enlazada es un palíndromo.\n",
    "  Args:\n",
    "    head (Node): El nodo de la cabeza de la lista.\n",
    "  Returns:\n",
    "    bool: True si la lista es un palíndromo, False en caso contrario.\n",
    "  \"\"\"\n",
    "  # Crear una pila vacía.\n",
    "  stack = []\n",
    "  # Recorrer la lista de izquierda a derecha, apilando cada elemento en la pila.\n",
    "  while head:\n",
    "    stack.append(head.data)\n",
    "    head = head.next\n",
    "  # Recorrer la lista de derecha a izquierda, comparando cada elemento con el elemento superior de la pila.\n",
    "  while head:\n",
    "    if head.data != stack.pop():\n",
    "      return False\n",
    "    head = head.next\n",
    "  # Si todos los elementos coinciden, la lista es un palíndromo.\n",
    "  return True"
   ],
   "metadata": {
    "collapsed": false
   },
   "id": "78b03dd5ef2f2f0a"
  },
  {
   "cell_type": "markdown",
   "source": [
    "### Ejercicio 6\n",
    "1. Crear una lista enlazada circular con n nodos.\n",
    "2. Empezar en el nodo de la cabeza.\n",
    "3. Saltar k nodos.\n",
    "4. Eliminar el nodo actual.\n",
    "5. Repetir los pasos 3 y 4 hasta que solo quede un nodo.\n",
    "6. Devolver la posición de la última persona en el círculo."
   ],
   "metadata": {
    "collapsed": false
   },
   "id": "9005829b1671dfea"
  },
  {
   "cell_type": "code",
   "execution_count": null,
   "outputs": [],
   "source": [
    "def josephus(n, k):\n",
    "  \"\"\"\n",
    "  Resuelve el Problema de Flavio Josefo utilizando arreglos circulares.\n",
    "  Args:\n",
    "    n (int): El número de personas en el círculo.\n",
    "    k (int): El número de personas a saltar.\n",
    "  Returns:\n",
    "    int: La posición de la última persona en el círculo.\n",
    "  \"\"\"\n",
    "  # Crear una lista enlazada circular con n nodos.\n",
    "  head = Node(1)\n",
    "  current = head\n",
    "  for i in range(2, n + 1):\n",
    "    current.next = Node(i)\n",
    "    current = current.next\n",
    "  # Cerrar el círculo.\n",
    "  current.next = head\n",
    "  # Empezar en el nodo de la cabeza.\n",
    "  current = head\n",
    "  # Saltar k nodos.\n",
    "  for i in range(k - 1):\n",
    "    current = current.next\n",
    "  # Eliminar el nodo actual.\n",
    "  previous = current\n",
    "  current = current.next\n",
    "  previous.next = current.next\n",
    "  # Repetir hasta que solo quede un nodo.\n",
    "  while current.next != current:\n",
    "    for i in range(k - 1):\n",
    "      current = current.next\n",
    "    previous = current\n",
    "    current = current.next\n",
    "    previous.next = current.next\n",
    "  # Devolver la posición de la última persona en el círculo.\n",
    "  return current.data"
   ],
   "metadata": {
    "collapsed": false
   },
   "id": "300cec3c4e593d1d"
  },
  {
   "cell_type": "markdown",
   "source": [
    "### Ejercicio 7\n",
    "El algoritmo rotar_lista toma como entrada una lista L y un entero k, y devuelve la lista L rotada k veces a la derecha si k es positivo o k veces a la izquierda si k es negativo. El algoritmo funciona de la siguiente manera:\n",
    "1. Si k es 0, el algoritmo devuelve la lista L sin modificarla.\n",
    "2. Si k es positivo, el algoritmo rota la lista a la derecha k veces. Esto se hace insertando el primer elemento de la lista al final de la lista k veces.\n",
    "3. Si k es negativo, el algoritmo rota la lista a la izquierda k veces. Esto se hace insertando el último elemento de la lista"
   ],
   "metadata": {
    "collapsed": false
   },
   "id": "c91d77cab58aaa21"
  },
  {
   "cell_type": "code",
   "execution_count": null,
   "outputs": [],
   "source": [
    "def rotate_list(L, k):\n",
    "  \"\"\"\n",
    "  Rota la lista L k veces a la derecha si k es positivo o k veces a la izquierda si es negativo.\n",
    "  Args:\n",
    "    L (list): La lista a rotar.\n",
    "    k (int): El número de veces a rotar la lista.\n",
    "  Returns:\n",
    "    list: La lista rotada.\n",
    "  \"\"\"\n",
    "  # Si k es 0, no hay necesidad de rotar la lista.\n",
    "  if k == 0:\n",
    "    return L\n",
    "  # Si k es positivo, rotar la lista a la derecha.\n",
    "  if k > 0:\n",
    "    for i in range(k):\n",
    "      L.append(L.pop(0))\n",
    "  # Si k es negativo, rotar la lista a la izquierda.\n",
    "  else:\n",
    "    for i in range(-k):\n",
    "      L.insert(0, L.pop())\n",
    "  # Devolver la lista rotada.\n",
    "  return L"
   ],
   "metadata": {
    "collapsed": false
   },
   "id": "67a8a009cb7ac841"
  },
  {
   "cell_type": "markdown",
   "source": [
    "### Ejercicio 8\n",
    "BLACKBOX AI\n",
    " Para encontrar el n-ésimo elemento desde el final de una lista L, podemos usar el siguiente algoritmo:\n",
    "1. Empezar en el primer elemento de la lista.\n",
    "2. Contar n elementos.\n",
    "3. Si hemos llegado al final de la lista, entonces el elemento actual es el n-ésimo elemento desde el final.\n",
    "4. De lo contrario, mover al siguiente elemento y repetir desde el paso 2.\n",
    "Este algoritmo tiene una complejidad temporal de O(n), ya que tenemos que recorrer la lista una vez. También tiene una complejidad espacial de O(1), ya que no necesitamos almacenar ninguna información adicional.\n",
    "Aquí hay un ejemplo de cómo usar este algoritmo para encontrar el 3er elemento desde el final de la lista [1, 2, 3, 4, 5]:\n",
    "1. Empezamos en el primer elemento de la lista, que es 1.\n",
    "2. Contamos 3 elementos, que son 1, 2 y 3.\n",
    "3. Hemos llegado al final de la lista, por lo que el elemento actual, que es 3, es el 3er elemento desde el final.\n",
    "Por lo tanto, el 3er elemento desde el final de la lista [1, 2, 3, 4, 5] es 3."
   ],
   "metadata": {
    "collapsed": false
   },
   "id": "5d40e9db8ea078dd"
  },
  {
   "cell_type": "code",
   "execution_count": null,
   "outputs": [],
   "source": [
    "def find_nth_from_last(L, n):\n",
    "  \"\"\"\n",
    "  Encuentra el n-ésimo elemento desde el final de una lista L.\n",
    "  Args:\n",
    "    L: La lista a buscar.\n",
    "    n: El índice del elemento a encontrar.\n",
    "  Returns:\n",
    "    El n-ésimo elemento desde el final de L.\n",
    "  \"\"\"\n",
    "  # Empezar en el primer elemento de la lista.\n",
    "  i = 0\n",
    "  # Contar n elementos.\n",
    "  while i < n:\n",
    "    i += 1\n",
    "    # Si hemos llegado al final de la lista, entonces el elemento actual es el n-ésimo elemento desde el final.\n",
    "    if i == len(L):\n",
    "      return L[i - 1]\n",
    "    # De lo contrario, mover al siguiente elemento y repetir desde el paso 2.\n",
    "    else:\n",
    "      i += 1"
   ],
   "metadata": {
    "collapsed": false
   },
   "id": "b4e1c5b4a70fd763"
  },
  {
   "cell_type": "markdown",
   "source": [
    "### Ejercicio 9\n",
    "El algoritmo de búsqueda binaria para arreglos funciona de la siguiente manera:\n",
    "1. Se compara el elemento del medio del arreglo con el elemento que se está buscando.\n",
    "2. Si el elemento del medio es igual al elemento que se está buscando, entonces se devuelve la posición del elemento del medio.\n",
    "3. Si el elemento del medio es mayor que el elemento que se está buscando, entonces se repite el proceso con la mitad izquierda del arreglo.\n",
    "4. Si el elemento del medio es menor que el elemento que se está buscando, entonces se repite el proceso con la mitad derecha del arreglo.\n",
    "El algoritmo de búsqueda binaria tiene una complejidad temporal de O(log(n)), donde n es el tamaño del arreglo. Esto significa que el algoritmo de búsqueda binaria es muy eficiente para encontrar un elemento en un arreglo grande.\n",
    "Sin embargo, el algoritmo de búsqueda binaria no es eficiente para encontrar un elemento en una lista enlazada. Esto se debe a que el algoritmo de búsqueda binaria requiere acceso aleatorio a los elementos del arreglo. Sin embargo, una lista enlazada no proporciona acceso aleatorio a sus elementos.\n",
    "La estructura de datos Skip List es una estructura de datos que se puede utilizar para implementar una lista enlazada con acceso aleatorio. La Skip List funciona de la siguiente manera:\n",
    "1. La Skip List se divide en niveles. El nivel más bajo de la Skip List es una lista enlazada normal.\n",
    "2. Cada nivel superior de la Skip List es una lista enlazada que contiene punteros a los elementos del nivel inferior.\n",
    "3. El nivel superior de la Skip List contiene un puntero a la cabeza de la lista enlazada.\n",
    "La Skip List tiene un tiempo de búsqueda esperado de O(log(n)), donde n es el tamaño de la lista enlazada. Esto se debe a que la Skip List utiliza el acceso aleatorio para encontrar el elemento que se está buscando.\n",
    "La Skip List tiene un espacio usado esperado de O(n). Esto se debe a que la Skip List almacena punteros a los elementos de la lista enlazada.\n",
    "La Skip List es una estructura de datos muy eficiente para implementar una lista enlazada con acceso aleatorio. La Skip List tiene un tiempo de búsqueda esperado de O(log(n)) y un espacio usado esperado de O(n)."
   ],
   "metadata": {
    "collapsed": false
   },
   "id": "359c4c61f8bd4a27"
  },
  {
   "cell_type": "markdown",
   "source": [
    "### Ejercicio 10\n",
    "El algoritmo Insertion Sort para listas enlazadas simples funciona de la siguiente manera:\n",
    "1. Se comienza con una lista enlazada vacía.\n",
    "2. Se inserta el primer elemento de la lista enlazada en la posición correcta.\n",
    "3. Se repite el paso 2 para cada elemento de la lista enlazada.\n",
    "El algoritmo Insertion Sort tiene una complejidad temporal de O(n^2), donde n es el tamaño de la lista enlazada. Esto significa que el algoritmo Insertion Sort es muy ineficiente para ordenar listas enlazadas grandes.\n",
    "Sin embargo, el algoritmo Insertion Sort es muy eficiente para ordenar listas enlazadas pequeñas. Esto se debe a que el algoritmo Insertion Sort no requiere acceso aleatorio a los elementos de la lista enlazada.\n",
    "El algoritmo Insertion Sort es un algoritmo de ordenamiento muy simple. Esto significa que el algoritmo Insertion Sort es fácil de implementar.\n",
    "El algoritmo Insertion Sort es un algoritmo de ordenamiento muy estable. Esto significa que el algoritmo Insertion Sort no cambia el orden relativo de los elementos que tienen la misma clave."
   ],
   "metadata": {
    "collapsed": false
   },
   "id": "febbd0f2c0957535"
  },
  {
   "cell_type": "code",
   "execution_count": null,
   "outputs": [],
   "source": [
    "def insertion_sort(head):\n",
    "  \"\"\"\n",
    "  Ordena una lista enlazada simple usando el algoritmo Insertion Sort.\n",
    "  Args:\n",
    "    head: La cabeza de la lista enlazada.\n",
    "  Returns:\n",
    "    La cabeza de la lista enlazada ordenada.\n",
    "  \"\"\"\n",
    "  # Si la lista enlazada está vacía, no hay nada que ordenar.\n",
    "  if head is None:\n",
    "    return head\n",
    "  # La lista enlazada ordenada se construye insertando cada elemento de la lista enlazada original en su posición correcta.\n",
    "  sorted_head = head\n",
    "  while head.next is not None:\n",
    "    # Se obtiene el siguiente elemento de la lista enlazada original.\n",
    "    next_node = head.next\n",
    "    # Se elimina el siguiente elemento de la lista enlazada original.\n",
    "    head.next = next_node.next\n",
    "    # Se inserta el siguiente elemento en su posición correcta en la lista enlazada ordenada.\n",
    "    sorted_head = insert_node(sorted_head, next_node)\n",
    "  # Se devuelve la cabeza de la lista enlazada ordenada.\n",
    "  return sorted_head\n",
    "def insert_node(head, node):\n",
    "  \"\"\"\n",
    "  Inserta un nodo en su posición correcta en una lista enlazada ordenada.\n",
    "  Args:\n",
    "    head: La cabeza de la lista enlazada ordenada.\n",
    "    node: El nodo que se va a insertar.\n",
    "  Returns:\n",
    "    La cabeza de la lista enlazada ordenada con el nodo insertado.\n",
    "  \"\"\"\n",
    "  # Si la lista enlazada ordenada está vacía, el nodo se inserta como la cabeza.\n",
    "  if head is None:\n",
    "    return node\n",
    "  # Si el nodo se va a insertar al final de la lista enlazada ordenada, se inserta después del último nodo.\n",
    "  if node.data >= head.data:\n",
    "    head.next = node\n",
    "    return head\n",
    "  # Si el nodo se va a insertar en el medio de la lista enlazada ordenada, se inserta después del nodo anterior.\n",
    "  previous_node = head\n",
    "  while previous_node.next is not None and node.data > previous_node.next.data:\n",
    "    previous_node = previous_node.next\n",
    "  node.next = previous_node.next"
   ],
   "metadata": {
    "collapsed": false
   },
   "id": "18a5e09523563b13"
  },
  {
   "cell_type": "markdown",
   "source": [
    "### Ejercicio 11\n",
    "Algoritmo para invertir una lista enlazada in place\n",
    "1. Si la lista enlazada está vacía, no hay nada que invertir.\n",
    "2. La lista enlazada invertida se construye invirtiendo los enlaces entre los nodos de la lista enlazada original.\n",
    "3. Para cada nodo de la lista enlazada original:\n",
    "    * Se obtiene el siguiente nodo de la lista enlazada original.\n",
    "    * Se invierte el enlace entre el nodo actual y el nodo anterior.\n",
    "    * Se actualiza el nodo anterior y el nodo actual.\n",
    "4. Se devuelve la cabeza de la lista enlazada invertida."
   ],
   "metadata": {
    "collapsed": false
   },
   "id": "8ac3de6e1623f1d"
  },
  {
   "cell_type": "code",
   "execution_count": null,
   "outputs": [],
   "source": [
    "def reverse_list(head):\n",
    "  \"\"\"\n",
    "  Invierte una lista enlazada in place.\n",
    "  Args:\n",
    "    head: La cabeza de la lista enlazada.\n",
    "  Returns:\n",
    "    La cabeza de la lista enlazada invertida.\n",
    "  \"\"\"\n",
    "  # Si la lista enlazada está vacía, no hay nada que invertir.\n",
    "  if head is None:\n",
    "    return head\n",
    "  # La lista enlazada invertida se construye invirtiendo los enlaces entre los nodos de la lista enlazada original.\n",
    "  previous_node = None\n",
    "  current_node = head\n",
    "  while current_node is not None:\n",
    "    # Se obtiene el siguiente nodo de la lista enlazada original.\n",
    "    next_node = current_node.next\n",
    "    # Se invierte el enlace entre el nodo actual y el nodo anterior.\n",
    "    current_node.next = previous_node\n",
    "    # Se actualiza el nodo anterior y el nodo actual.\n",
    "    previous_node = current_node\n",
    "    current_node = next_node\n",
    "  # Se devuelve la cabeza de la lista enlazada invertida.\n",
    "  return previous_node"
   ],
   "metadata": {
    "collapsed": false
   },
   "id": "af3ed74a32ccefa6"
  },
  {
   "cell_type": "markdown",
   "source": [
    "### Ejercicio 12\n",
    "Algoritmo para ordenar una lista enlazada con valores 0, 1 y 2 sin usar Counting Sort\n",
    "1. Crear tres listas enlazadas vacías: `lista_0`, `lista_1` y `lista_2`.\n",
    "2. Recorrer la lista enlazada original `L`.\n",
    "3. Para cada nodo de `L`:\n",
    "    * Si el valor del nodo es 0, añadir el nodo a `lista_0`.\n",
    "    * Si el valor del nodo es 1, añadir el nodo a `lista_1`.\n",
    "    * Si el valor del nodo es 2, añadir el nodo a `lista_2`.\n",
    "4. Concatenar `lista_0`, `lista_1` y `lista_2` en ese orden.\n",
    "5. Devolver la lista enlazada resultante."
   ],
   "metadata": {
    "collapsed": false
   },
   "id": "6985ca2d096a1aa9"
  },
  {
   "cell_type": "code",
   "execution_count": null,
   "outputs": [],
   "source": [
    "def invertir_lista_enlazada(lista_enlazada):\n",
    "  \"\"\"Invierte una lista enlazada in place.\n",
    "  Args:\n",
    "    lista_enlazada: La lista enlazada a invertir.\n",
    "  Returns:\n",
    "    La cabeza de la lista enlazada invertida.\n",
    "  \"\"\"\n",
    "  if lista_enlazada is None:\n",
    "    return None\n",
    "  anterior = None\n",
    "  actual = lista_enlazada\n",
    "  while actual is not None:\n",
    "    siguiente = actual.siguiente\n",
    "    actual.siguiente = anterior\n",
    "    anterior = actual\n",
    "    actual = siguiente\n",
    "  return anterior\n",
    "def ordenar_lista_enlazada_sin_counting_sort(lista_enlazada):\n",
    "  \"\"\"Ordena una lista enlazada con valores 0, 1 y 2 sin usar Counting Sort.\n",
    "  Args:\n",
    "    lista_enlazada: La lista enlazada a ordenar.\n",
    "  Returns:\n",
    "    La cabeza de la lista enlazada ordenada.\n",
    "  \"\"\"\n",
    "  lista_0 = None\n",
    "  lista_1 = None\n",
    "  lista_2 = None\n",
    "  actual = lista_enlazada\n",
    "  while actual is not None:\n",
    "    if actual.valor == 0:\n",
    "      lista_0 = insertar_al_final(lista_0, actual)\n",
    "    elif actual.valor == 1:\n",
    "      lista_1 = insertar_al_final(lista_1, actual)\n",
    "    else:\n",
    "      lista_2 = insertar_al_final(lista_2, actual)\n",
    "    actual = actual.siguiente\n",
    "  #return concatenar_listas_enlazadas(lista_0, lista_1, lista_2)\n",
    "def insertar_al_final(lista_enlazada, nodo):\n",
    "  \"\"\"Inserta un nodo al final de una lista enlazada.\n",
    "  Args:\n",
    "    lista_enlazada: La lista enlazada a la que se va a insertar el nodo.\n",
    "    nodo: El nodo a insertar.\n",
    "  Returns:\n",
    "    La cabeza de la lista enlazada con el nodo insertado.\n",
    "  \"\"\"\n",
    "  if lista_enlazada is None:\n",
    "    return nodo\n",
    "  actual = lista_enlazada\n",
    "  while actual.siguiente is not None:\n",
    "    actual = actual.siguiente\n",
    "  actual.siguiente = nodo\n",
    "  return"
   ],
   "metadata": {
    "collapsed": false
   },
   "id": "eed9149114a3b40d"
  }
 ],
 "metadata": {
  "kernelspec": {
   "display_name": "Python 3",
   "language": "python",
   "name": "python3"
  },
  "language_info": {
   "codemirror_mode": {
    "name": "ipython",
    "version": 2
   },
   "file_extension": ".py",
   "mimetype": "text/x-python",
   "name": "python",
   "nbconvert_exporter": "python",
   "pygments_lexer": "ipython2",
   "version": "2.7.6"
  }
 },
 "nbformat": 4,
 "nbformat_minor": 5
}
