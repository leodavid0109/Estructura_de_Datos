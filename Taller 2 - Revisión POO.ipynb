{
 "cells": [
  {
   "cell_type": "markdown",
   "source": [
    "# TALLER 2: PROGRAMACIÓN ORIENTADA A OBJETOS\n",
    "\n",
    "## Instrucción:\n",
    "Determine las clases, sus atributos y métodos, requeridos para solucionar cada uno de los siguientes problemas. Presente la solución a través de un diagrama de clase. No se requiere la implementación completa.\n",
    "\n",
    "## PROBLEMA 1:\n",
    "Un centro de salud requiere un sistema de información para administrar la agenda de citas por semana. Para cada cita, se debe permitir almacenar la información del médico y del paciente, hora y fecha, tipo de atención (general, especializado, odontología) y el valor de la factura del servicio. La información personal de los usuarios, así como de los médicos, almacenada en el sistema debe incluir el nombre completo, cédula, fecha de nacimiento, y teléfono de contacto."
   ],
   "metadata": {
    "collapsed": false
   },
   "id": "79b09dbaeb2d7709"
  },
  {
   "cell_type": "markdown",
   "source": [
    "### SOLUCIÓN:\n",
    "\n",
    "#### CLASES:\n",
    "- **Usuario:** Clase que representa a un usuario del sistema. Contiene los atributos: nombre, cédula, fecha de nacimiento y teléfono de contacto. Contiene los métodos: constructor, toString, getters y setters.\n",
    "- **Fecha:** Clase que representa una fecha. Contiene los atributos: día, mes y año. Contiene los métodos: constructor, toString, getters y setters.\n",
    "- **Hora:** Clase que representa una hora. Contiene los atributos: hora y minuto. Contiene los métodos: constructor, toString, getters y setters.\n",
    "- **Cita:** Clase que representa una cita. Contiene los atributos: médico, paciente, fecha, hora, tipo de atención y valor de la factura. Contiene los métodos: constructor, toString, getters y setters.\n",
    "- **Agenda Citas:** Clase general que representa la agenda de citas."
   ],
   "metadata": {
    "collapsed": false
   },
   "id": "9a68b204dd191f3b"
  },
  {
   "cell_type": "markdown",
   "source": [
    "## PROBLEMA 2:\n",
    "Una empresa de bienes raíces requiere un sistema que le permita administrar los inmuebles que dispone para alquiler. El sistema debe permitir almacenar la información de los usuarios, así como permitirles alquilar hasta dos inmuebles y pagar la renta. Cad a inmueble se identifica por un código de identificación con letras y números, la dirección completa, el valor de la renta mensual, la información del dueño del inmueble; cada inmueble solo se puede rentar a único usuario. Tanto la información personal de los usuarios como dueños de inmueble debe incluir el nombre completo, cédula, fecha de nacimiento, dirección completa, teléfono de contacto y correo electrónico. La dirección debe incluir tipo de vía (calle, carrera, etc.), número o nombre de la vía, númer o y letra con la nomenclatura del inmueble, número de apto si aplica, ciudad, y barrio."
   ],
   "metadata": {
    "collapsed": false
   },
   "id": "fa3eaf4dd7a907e0"
  },
  {
   "cell_type": "markdown",
   "source": [
    "### SOLUCIÓN:\n",
    "\n",
    "#### CLASES:\n",
    "- **Usuario:** Clase que representa a un usuario del sistema. Contiene los atributos: nombre, cédula, fecha de nacimiento, dirección, teléfono de contacto y correo electrónico. Contiene los métodos: constructor, toString, getters y setters.\n",
    "- **Dirección:** Clase que representa una dirección. Contiene los atributos: tipo de vía, número o nombre de la vía, número y letra con la nomenclatura del inmueble, número de apto si aplica, ciudad y barrio. Contiene los métodos: constructor, toString, getters y setters.\n",
    "- **Inmueble:** Clase que representa un inmueble. Contiene los atributos: código de identificación, dirección, valor de la renta mensual y dueño del inmueble. Contiene los métodos: constructor, toString, getters y setters.\n",
    "- **Arrendatario:** Clase que representa un arrendatario. Hereada de la clase Usuario. Contiene los atributos: inmuebles alquilados. Contiene los métodos: constructor, toString, getters y setters.\n",
    "- **Fecha:** Clase que representa una fecha. Contiene los atributos: día, mes y año. Contiene los métodos: constructor, toString, getters y setters."
   ],
   "metadata": {
    "collapsed": false
   },
   "id": "7776ae316ade96f2"
  },
  {
   "cell_type": "markdown",
   "source": [
    "## PROBLEMA 3:\n",
    "Al sistema que administra los inmuebles de la empresa de bienes raíces se le desea agregar la característica para alquilar casas, apartamentos, y locales comerciales. Para las casas el sistema actualizado debe permitir cobrar al usuario una multa si este no paga a tiempo el alquiler, así como calcular el valor de los impuestos los cuales equivalen al 10% del valor del inmueble. Para los apartamentos el sistema actualizado debe permitir pagar la administración de la unidad del valor recaudado de alquiler, cobrar una multa si el usuario no paga a tiempo y calcular el valor del impuesto de igual forma que una casa. Finalmente, para los locales comerciales el sistema debe permitir pagar la administración, cobrar al usuario una multa si este no paga a tiempo y calcular los impuestos que equivalen al 15% del valor del inmueble. Determine las clases que se requieren para resolver el problema, así como sus atributos y métodos. Dibuje el diagrama de clases para cada una de ellas incluyendo visibilidad de los atributos y los métodos, así como los tipos de parámetro de entrada y salida de cada método. Incluya una descripción breve de cada atributo y método definido. Incluya en los métodos de cada clase al menos un constructor."
   ],
   "metadata": {
    "collapsed": false
   },
   "id": "27f88691b967778e"
  },
  {
   "cell_type": "markdown",
   "source": [
    "### SOLUCIÓN:\n",
    "\n",
    "#### CLASES:\n",
    "- **Casa:** Clase que representa una casa. Hereda de la clase Inmueble. Contiene los atributos: multa, impuesto. Contiene los métodos: constructor, toString, getters y setters.\n",
    "- **Apartamento:** Clase que representa un apartamento. Hereda de la clase Inmueble. Contiene los atributos: administración, multa, impuesto. Contiene los métodos: constructor, toString, getters y setters."
   ],
   "metadata": {
    "collapsed": false
   },
   "id": "aca8be7c8f3b1241"
  },
  {
   "cell_type": "code",
   "execution_count": null,
   "outputs": [],
   "source": [],
   "metadata": {
    "collapsed": false
   },
   "id": "82fdfba00db432e6"
  }
 ],
 "metadata": {
  "kernelspec": {
   "display_name": "Python 3",
   "language": "python",
   "name": "python3"
  },
  "language_info": {
   "codemirror_mode": {
    "name": "ipython",
    "version": 2
   },
   "file_extension": ".py",
   "mimetype": "text/x-python",
   "name": "python",
   "nbconvert_exporter": "python",
   "pygments_lexer": "ipython2",
   "version": "2.7.6"
  }
 },
 "nbformat": 4,
 "nbformat_minor": 5
}
